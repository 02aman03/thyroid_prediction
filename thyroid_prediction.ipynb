{
  "cells": [
    {
      "cell_type": "code",
      "execution_count": 1,
      "metadata": {
        "id": "sOaFaIK2Ko49"
      },
      "outputs": [],
      "source": [
        "import pandas as pd \n",
        "import numpy as np\n",
        "import seaborn as sns\n",
        "import matplotlib.pyplot as plt"
      ]
    },
    {
      "cell_type": "code",
      "source": [
        "from google.colab import drive\n",
        "drive.mount('/content/drive')"
      ],
      "metadata": {
        "colab": {
          "base_uri": "https://localhost:8080/"
        },
        "id": "uD0zQY5lL244",
        "outputId": "304fb91d-5a28-4765-c897-1b406ae48166"
      },
      "execution_count": 2,
      "outputs": [
        {
          "output_type": "stream",
          "name": "stdout",
          "text": [
            "Mounted at /content/drive\n"
          ]
        }
      ]
    },
    {
      "cell_type": "code",
      "source": [
        "%ls"
      ],
      "metadata": {
        "colab": {
          "base_uri": "https://localhost:8080/"
        },
        "id": "txcF8JNkMSDP",
        "outputId": "e99a46cf-317c-48a7-99e8-e23f55ee7ae5"
      },
      "execution_count": 3,
      "outputs": [
        {
          "output_type": "stream",
          "name": "stdout",
          "text": [
            "\u001b[0m\u001b[01;34mdrive\u001b[0m/  hypothyroid.csv  \u001b[01;34msample_data\u001b[0m/\n"
          ]
        }
      ]
    },
    {
      "cell_type": "code",
      "execution_count": 4,
      "metadata": {
        "colab": {
          "base_uri": "https://localhost:8080/",
          "height": 270
        },
        "id": "SD0IR02pKo4_",
        "outputId": "2a1a3bdf-cf2e-4182-fc9a-a56a38fc450c"
      },
      "outputs": [
        {
          "output_type": "execute_result",
          "data": {
            "text/plain": [
              "  age sex on_thyroxine query_on_thyroxine on_antithyroid_medication sick  \\\n",
              "0  41   F            f                  f                         f    f   \n",
              "1  23   F            f                  f                         f    f   \n",
              "2  46   M            f                  f                         f    f   \n",
              "3  70   F            t                  f                         f    f   \n",
              "4  70   F            f                  f                         f    f   \n",
              "\n",
              "  pregnant thyroid_surgery I131_treatment query_hypothyroid  \\\n",
              "0        f               f              f                 f   \n",
              "1        f               f              f                 f   \n",
              "2        f               f              f                 f   \n",
              "3        f               f              f                 f   \n",
              "4        f               f              f                 f   \n",
              "\n",
              "  query_hyperthyroid lithium goitre tumor hypopituitary psych TSH_measured  \\\n",
              "0                  f       f      f     f             f     f            t   \n",
              "1                  f       f      f     f             f     f            t   \n",
              "2                  f       f      f     f             f     f            t   \n",
              "3                  f       f      f     f             f     f            t   \n",
              "4                  f       f      f     f             f     f            t   \n",
              "\n",
              "    TSH T3_measured   T3 TT4_measured  TT4 T4U_measured   T4U FTI_measured  \\\n",
              "0   1.3           t  2.5            t  125            t  1.14            t   \n",
              "1   4.1           t    2            t  102            f     ?            f   \n",
              "2  0.98           f    ?            t  109            t  0.91            t   \n",
              "3  0.16           t  1.9            t  175            f     ?            f   \n",
              "4  0.72           t  1.2            t   61            t  0.87            t   \n",
              "\n",
              "   FTI TBG_measured TBG referral_source     Class  \n",
              "0  109            f   ?            SVHC  negative  \n",
              "1    ?            f   ?           other  negative  \n",
              "2  120            f   ?           other  negative  \n",
              "3    ?            f   ?           other  negative  \n",
              "4   70            f   ?             SVI  negative  "
            ],
            "text/html": [
              "\n",
              "  <div id=\"df-33e15c7f-987a-4b1f-80b8-875d458a15ec\">\n",
              "    <div class=\"colab-df-container\">\n",
              "      <div>\n",
              "<style scoped>\n",
              "    .dataframe tbody tr th:only-of-type {\n",
              "        vertical-align: middle;\n",
              "    }\n",
              "\n",
              "    .dataframe tbody tr th {\n",
              "        vertical-align: top;\n",
              "    }\n",
              "\n",
              "    .dataframe thead th {\n",
              "        text-align: right;\n",
              "    }\n",
              "</style>\n",
              "<table border=\"1\" class=\"dataframe\">\n",
              "  <thead>\n",
              "    <tr style=\"text-align: right;\">\n",
              "      <th></th>\n",
              "      <th>age</th>\n",
              "      <th>sex</th>\n",
              "      <th>on_thyroxine</th>\n",
              "      <th>query_on_thyroxine</th>\n",
              "      <th>on_antithyroid_medication</th>\n",
              "      <th>sick</th>\n",
              "      <th>pregnant</th>\n",
              "      <th>thyroid_surgery</th>\n",
              "      <th>I131_treatment</th>\n",
              "      <th>query_hypothyroid</th>\n",
              "      <th>query_hyperthyroid</th>\n",
              "      <th>lithium</th>\n",
              "      <th>goitre</th>\n",
              "      <th>tumor</th>\n",
              "      <th>hypopituitary</th>\n",
              "      <th>psych</th>\n",
              "      <th>TSH_measured</th>\n",
              "      <th>TSH</th>\n",
              "      <th>T3_measured</th>\n",
              "      <th>T3</th>\n",
              "      <th>TT4_measured</th>\n",
              "      <th>TT4</th>\n",
              "      <th>T4U_measured</th>\n",
              "      <th>T4U</th>\n",
              "      <th>FTI_measured</th>\n",
              "      <th>FTI</th>\n",
              "      <th>TBG_measured</th>\n",
              "      <th>TBG</th>\n",
              "      <th>referral_source</th>\n",
              "      <th>Class</th>\n",
              "    </tr>\n",
              "  </thead>\n",
              "  <tbody>\n",
              "    <tr>\n",
              "      <th>0</th>\n",
              "      <td>41</td>\n",
              "      <td>F</td>\n",
              "      <td>f</td>\n",
              "      <td>f</td>\n",
              "      <td>f</td>\n",
              "      <td>f</td>\n",
              "      <td>f</td>\n",
              "      <td>f</td>\n",
              "      <td>f</td>\n",
              "      <td>f</td>\n",
              "      <td>f</td>\n",
              "      <td>f</td>\n",
              "      <td>f</td>\n",
              "      <td>f</td>\n",
              "      <td>f</td>\n",
              "      <td>f</td>\n",
              "      <td>t</td>\n",
              "      <td>1.3</td>\n",
              "      <td>t</td>\n",
              "      <td>2.5</td>\n",
              "      <td>t</td>\n",
              "      <td>125</td>\n",
              "      <td>t</td>\n",
              "      <td>1.14</td>\n",
              "      <td>t</td>\n",
              "      <td>109</td>\n",
              "      <td>f</td>\n",
              "      <td>?</td>\n",
              "      <td>SVHC</td>\n",
              "      <td>negative</td>\n",
              "    </tr>\n",
              "    <tr>\n",
              "      <th>1</th>\n",
              "      <td>23</td>\n",
              "      <td>F</td>\n",
              "      <td>f</td>\n",
              "      <td>f</td>\n",
              "      <td>f</td>\n",
              "      <td>f</td>\n",
              "      <td>f</td>\n",
              "      <td>f</td>\n",
              "      <td>f</td>\n",
              "      <td>f</td>\n",
              "      <td>f</td>\n",
              "      <td>f</td>\n",
              "      <td>f</td>\n",
              "      <td>f</td>\n",
              "      <td>f</td>\n",
              "      <td>f</td>\n",
              "      <td>t</td>\n",
              "      <td>4.1</td>\n",
              "      <td>t</td>\n",
              "      <td>2</td>\n",
              "      <td>t</td>\n",
              "      <td>102</td>\n",
              "      <td>f</td>\n",
              "      <td>?</td>\n",
              "      <td>f</td>\n",
              "      <td>?</td>\n",
              "      <td>f</td>\n",
              "      <td>?</td>\n",
              "      <td>other</td>\n",
              "      <td>negative</td>\n",
              "    </tr>\n",
              "    <tr>\n",
              "      <th>2</th>\n",
              "      <td>46</td>\n",
              "      <td>M</td>\n",
              "      <td>f</td>\n",
              "      <td>f</td>\n",
              "      <td>f</td>\n",
              "      <td>f</td>\n",
              "      <td>f</td>\n",
              "      <td>f</td>\n",
              "      <td>f</td>\n",
              "      <td>f</td>\n",
              "      <td>f</td>\n",
              "      <td>f</td>\n",
              "      <td>f</td>\n",
              "      <td>f</td>\n",
              "      <td>f</td>\n",
              "      <td>f</td>\n",
              "      <td>t</td>\n",
              "      <td>0.98</td>\n",
              "      <td>f</td>\n",
              "      <td>?</td>\n",
              "      <td>t</td>\n",
              "      <td>109</td>\n",
              "      <td>t</td>\n",
              "      <td>0.91</td>\n",
              "      <td>t</td>\n",
              "      <td>120</td>\n",
              "      <td>f</td>\n",
              "      <td>?</td>\n",
              "      <td>other</td>\n",
              "      <td>negative</td>\n",
              "    </tr>\n",
              "    <tr>\n",
              "      <th>3</th>\n",
              "      <td>70</td>\n",
              "      <td>F</td>\n",
              "      <td>t</td>\n",
              "      <td>f</td>\n",
              "      <td>f</td>\n",
              "      <td>f</td>\n",
              "      <td>f</td>\n",
              "      <td>f</td>\n",
              "      <td>f</td>\n",
              "      <td>f</td>\n",
              "      <td>f</td>\n",
              "      <td>f</td>\n",
              "      <td>f</td>\n",
              "      <td>f</td>\n",
              "      <td>f</td>\n",
              "      <td>f</td>\n",
              "      <td>t</td>\n",
              "      <td>0.16</td>\n",
              "      <td>t</td>\n",
              "      <td>1.9</td>\n",
              "      <td>t</td>\n",
              "      <td>175</td>\n",
              "      <td>f</td>\n",
              "      <td>?</td>\n",
              "      <td>f</td>\n",
              "      <td>?</td>\n",
              "      <td>f</td>\n",
              "      <td>?</td>\n",
              "      <td>other</td>\n",
              "      <td>negative</td>\n",
              "    </tr>\n",
              "    <tr>\n",
              "      <th>4</th>\n",
              "      <td>70</td>\n",
              "      <td>F</td>\n",
              "      <td>f</td>\n",
              "      <td>f</td>\n",
              "      <td>f</td>\n",
              "      <td>f</td>\n",
              "      <td>f</td>\n",
              "      <td>f</td>\n",
              "      <td>f</td>\n",
              "      <td>f</td>\n",
              "      <td>f</td>\n",
              "      <td>f</td>\n",
              "      <td>f</td>\n",
              "      <td>f</td>\n",
              "      <td>f</td>\n",
              "      <td>f</td>\n",
              "      <td>t</td>\n",
              "      <td>0.72</td>\n",
              "      <td>t</td>\n",
              "      <td>1.2</td>\n",
              "      <td>t</td>\n",
              "      <td>61</td>\n",
              "      <td>t</td>\n",
              "      <td>0.87</td>\n",
              "      <td>t</td>\n",
              "      <td>70</td>\n",
              "      <td>f</td>\n",
              "      <td>?</td>\n",
              "      <td>SVI</td>\n",
              "      <td>negative</td>\n",
              "    </tr>\n",
              "  </tbody>\n",
              "</table>\n",
              "</div>\n",
              "      <button class=\"colab-df-convert\" onclick=\"convertToInteractive('df-33e15c7f-987a-4b1f-80b8-875d458a15ec')\"\n",
              "              title=\"Convert this dataframe to an interactive table.\"\n",
              "              style=\"display:none;\">\n",
              "        \n",
              "  <svg xmlns=\"http://www.w3.org/2000/svg\" height=\"24px\"viewBox=\"0 0 24 24\"\n",
              "       width=\"24px\">\n",
              "    <path d=\"M0 0h24v24H0V0z\" fill=\"none\"/>\n",
              "    <path d=\"M18.56 5.44l.94 2.06.94-2.06 2.06-.94-2.06-.94-.94-2.06-.94 2.06-2.06.94zm-11 1L8.5 8.5l.94-2.06 2.06-.94-2.06-.94L8.5 2.5l-.94 2.06-2.06.94zm10 10l.94 2.06.94-2.06 2.06-.94-2.06-.94-.94-2.06-.94 2.06-2.06.94z\"/><path d=\"M17.41 7.96l-1.37-1.37c-.4-.4-.92-.59-1.43-.59-.52 0-1.04.2-1.43.59L10.3 9.45l-7.72 7.72c-.78.78-.78 2.05 0 2.83L4 21.41c.39.39.9.59 1.41.59.51 0 1.02-.2 1.41-.59l7.78-7.78 2.81-2.81c.8-.78.8-2.07 0-2.86zM5.41 20L4 18.59l7.72-7.72 1.47 1.35L5.41 20z\"/>\n",
              "  </svg>\n",
              "      </button>\n",
              "      \n",
              "  <style>\n",
              "    .colab-df-container {\n",
              "      display:flex;\n",
              "      flex-wrap:wrap;\n",
              "      gap: 12px;\n",
              "    }\n",
              "\n",
              "    .colab-df-convert {\n",
              "      background-color: #E8F0FE;\n",
              "      border: none;\n",
              "      border-radius: 50%;\n",
              "      cursor: pointer;\n",
              "      display: none;\n",
              "      fill: #1967D2;\n",
              "      height: 32px;\n",
              "      padding: 0 0 0 0;\n",
              "      width: 32px;\n",
              "    }\n",
              "\n",
              "    .colab-df-convert:hover {\n",
              "      background-color: #E2EBFA;\n",
              "      box-shadow: 0px 1px 2px rgba(60, 64, 67, 0.3), 0px 1px 3px 1px rgba(60, 64, 67, 0.15);\n",
              "      fill: #174EA6;\n",
              "    }\n",
              "\n",
              "    [theme=dark] .colab-df-convert {\n",
              "      background-color: #3B4455;\n",
              "      fill: #D2E3FC;\n",
              "    }\n",
              "\n",
              "    [theme=dark] .colab-df-convert:hover {\n",
              "      background-color: #434B5C;\n",
              "      box-shadow: 0px 1px 3px 1px rgba(0, 0, 0, 0.15);\n",
              "      filter: drop-shadow(0px 1px 2px rgba(0, 0, 0, 0.3));\n",
              "      fill: #FFFFFF;\n",
              "    }\n",
              "  </style>\n",
              "\n",
              "      <script>\n",
              "        const buttonEl =\n",
              "          document.querySelector('#df-33e15c7f-987a-4b1f-80b8-875d458a15ec button.colab-df-convert');\n",
              "        buttonEl.style.display =\n",
              "          google.colab.kernel.accessAllowed ? 'block' : 'none';\n",
              "\n",
              "        async function convertToInteractive(key) {\n",
              "          const element = document.querySelector('#df-33e15c7f-987a-4b1f-80b8-875d458a15ec');\n",
              "          const dataTable =\n",
              "            await google.colab.kernel.invokeFunction('convertToInteractive',\n",
              "                                                     [key], {});\n",
              "          if (!dataTable) return;\n",
              "\n",
              "          const docLinkHtml = 'Like what you see? Visit the ' +\n",
              "            '<a target=\"_blank\" href=https://colab.research.google.com/notebooks/data_table.ipynb>data table notebook</a>'\n",
              "            + ' to learn more about interactive tables.';\n",
              "          element.innerHTML = '';\n",
              "          dataTable['output_type'] = 'display_data';\n",
              "          await google.colab.output.renderOutput(dataTable, element);\n",
              "          const docLink = document.createElement('div');\n",
              "          docLink.innerHTML = docLinkHtml;\n",
              "          element.appendChild(docLink);\n",
              "        }\n",
              "      </script>\n",
              "    </div>\n",
              "  </div>\n",
              "  "
            ]
          },
          "metadata": {},
          "execution_count": 4
        }
      ],
      "source": [
        "# Loading Data\n",
        "\n",
        "data = pd.read_csv(\"hypothyroid.csv\")\n",
        "pd.options.display.max_columns = None\n",
        "data.head()"
      ]
    },
    {
      "cell_type": "code",
      "execution_count": 5,
      "metadata": {
        "colab": {
          "base_uri": "https://localhost:8080/"
        },
        "id": "Mr4OPN07Ko5A",
        "outputId": "709858ae-5e37-423f-83aa-763948bec002"
      },
      "outputs": [
        {
          "output_type": "execute_result",
          "data": {
            "text/plain": [
              "Index(['age', 'sex', 'on_thyroxine', 'query_on_thyroxine',\n",
              "       'on_antithyroid_medication', 'sick', 'pregnant', 'thyroid_surgery',\n",
              "       'I131_treatment', 'query_hypothyroid', 'query_hyperthyroid', 'lithium',\n",
              "       'goitre', 'tumor', 'hypopituitary', 'psych', 'TSH_measured', 'TSH',\n",
              "       'T3_measured', 'T3', 'TT4_measured', 'TT4', 'T4U_measured', 'T4U',\n",
              "       'FTI_measured', 'FTI', 'TBG_measured', 'TBG', 'referral_source',\n",
              "       'Class'],\n",
              "      dtype='object')"
            ]
          },
          "metadata": {},
          "execution_count": 5
        }
      ],
      "source": [
        "data.columns"
      ]
    },
    {
      "cell_type": "markdown",
      "metadata": {
        "id": "H5MhaxPiKo5C"
      },
      "source": [
        "# Feature Column Description\n",
        "\n",
        "age - Age of the person\n",
        "\n",
        "sex - Male or Female\n",
        "\n",
        "on_thyroxine - true or false\n",
        "\n",
        "on_antithyroid_medication - true or false\n",
        "\n",
        "sick - true or false\n",
        "\n",
        "pregnant - true or false\n",
        "\n",
        "thyroid_surgery - true or false\n",
        "\n",
        "I131_treatment - true or false\n",
        "\n",
        "query_hypothyroid - true or false\n",
        "\n",
        "query_hyperthyroid -true or false\n",
        "\n",
        "lithium - true or false\n",
        "\n",
        "goitre - true or false\n",
        "\n",
        "tumor - true or false\n",
        "\n",
        "hypopituitary- true or false\n",
        "\n",
        "psych - true or false\n",
        "\n",
        "TSH_measured - true or false\n",
        "\n",
        "TSH - thyroid stimulating hormone floating value\n",
        "\n",
        "T3_measured - true or false\n",
        "\n",
        "T3 - triiodothyronine value\n",
        "\n",
        "TT4_measured- true or false\n",
        "\n",
        "TT4 - Thyroxine value\n",
        "\n",
        "T4U_measured- true or false\n",
        "\n",
        "T4U - numerical value\n",
        "\n",
        "FTI_measured- true or false\n",
        "\n",
        "FTI -Free Thyroxine Index\n",
        "\n",
        "TBG_measured- true or false\n",
        "\n",
        "TBG -Thyroid-Binding Globulin  value\n",
        "\n",
        "referral_source - different sources of referals\n",
        "\n",
        "Class - different types of thyroid"
      ]
    },
    {
      "cell_type": "code",
      "execution_count": 6,
      "metadata": {
        "colab": {
          "base_uri": "https://localhost:8080/"
        },
        "id": "Dja1okCwKo5E",
        "outputId": "0d274816-39d5-4b19-f584-b98b5105ea04"
      },
      "outputs": [
        {
          "output_type": "execute_result",
          "data": {
            "text/plain": [
              "(3772, 30)"
            ]
          },
          "metadata": {},
          "execution_count": 6
        }
      ],
      "source": [
        "data.shape"
      ]
    },
    {
      "cell_type": "code",
      "execution_count": 7,
      "metadata": {
        "colab": {
          "base_uri": "https://localhost:8080/"
        },
        "id": "NH4Gcm9sKo5F",
        "outputId": "4df27507-5ff7-497e-a59c-a8197e035948"
      },
      "outputs": [
        {
          "output_type": "execute_result",
          "data": {
            "text/plain": [
              "age                          object\n",
              "sex                          object\n",
              "on_thyroxine                 object\n",
              "query_on_thyroxine           object\n",
              "on_antithyroid_medication    object\n",
              "sick                         object\n",
              "pregnant                     object\n",
              "thyroid_surgery              object\n",
              "I131_treatment               object\n",
              "query_hypothyroid            object\n",
              "query_hyperthyroid           object\n",
              "lithium                      object\n",
              "goitre                       object\n",
              "tumor                        object\n",
              "hypopituitary                object\n",
              "psych                        object\n",
              "TSH_measured                 object\n",
              "TSH                          object\n",
              "T3_measured                  object\n",
              "T3                           object\n",
              "TT4_measured                 object\n",
              "TT4                          object\n",
              "T4U_measured                 object\n",
              "T4U                          object\n",
              "FTI_measured                 object\n",
              "FTI                          object\n",
              "TBG_measured                 object\n",
              "TBG                          object\n",
              "referral_source              object\n",
              "Class                        object\n",
              "dtype: object"
            ]
          },
          "metadata": {},
          "execution_count": 7
        }
      ],
      "source": [
        "# validating data types\n",
        "# although all columns are marked as object type , it is observable that \n",
        "# there are other data types as well\n",
        "data.dtypes"
      ]
    },
    {
      "cell_type": "code",
      "execution_count": 8,
      "metadata": {
        "colab": {
          "base_uri": "https://localhost:8080/"
        },
        "id": "DYo_fh-jKo5G",
        "outputId": "c458c876-3420-41b3-d411-1aada3a32975"
      },
      "outputs": [
        {
          "output_type": "execute_result",
          "data": {
            "text/plain": [
              "age                          0\n",
              "sex                          0\n",
              "on_thyroxine                 0\n",
              "query_on_thyroxine           0\n",
              "on_antithyroid_medication    0\n",
              "sick                         0\n",
              "pregnant                     0\n",
              "thyroid_surgery              0\n",
              "I131_treatment               0\n",
              "query_hypothyroid            0\n",
              "query_hyperthyroid           0\n",
              "lithium                      0\n",
              "goitre                       0\n",
              "tumor                        0\n",
              "hypopituitary                0\n",
              "psych                        0\n",
              "TSH_measured                 0\n",
              "TSH                          0\n",
              "T3_measured                  0\n",
              "T3                           0\n",
              "TT4_measured                 0\n",
              "TT4                          0\n",
              "T4U_measured                 0\n",
              "T4U                          0\n",
              "FTI_measured                 0\n",
              "FTI                          0\n",
              "TBG_measured                 0\n",
              "TBG                          0\n",
              "referral_source              0\n",
              "Class                        0\n",
              "dtype: int64"
            ]
          },
          "metadata": {},
          "execution_count": 8
        }
      ],
      "source": [
        "#check for Null Values\n",
        "data.isnull().sum()"
      ]
    },
    {
      "cell_type": "code",
      "execution_count": 9,
      "metadata": {
        "colab": {
          "base_uri": "https://localhost:8080/"
        },
        "id": "2jEVNqIEKo5G",
        "outputId": "2ebf42a1-9603-454b-fe02-82aec0d94bfd"
      },
      "outputs": [
        {
          "output_type": "stream",
          "name": "stdout",
          "text": [
            "1 \t age\n",
            "150 \t sex\n",
            "369 \t TSH\n",
            "769 \t T3\n",
            "231 \t TT4\n",
            "387 \t T4U\n",
            "385 \t FTI\n",
            "3772 \t TBG\n"
          ]
        },
        {
          "output_type": "execute_result",
          "data": {
            "text/plain": [
              "['age', 'sex', 'TSH', 'T3', 'TT4', 'T4U', 'FTI', 'TBG']"
            ]
          },
          "metadata": {},
          "execution_count": 9
        }
      ],
      "source": [
        "#we can clearly observe that data contains invalid data values like ?\n",
        "#hence we don't observe any nul values , since the nan values have been observed by \"?\"\n",
        "\n",
        "#checking count of invalid data type ? , and replacing it with nan\n",
        "pd.options.display.max_rows=None\n",
        "bad_col=[]\n",
        "for i in data.columns:\n",
        "        a=data[i][data[i]=='?'].count()\n",
        "        if a!=0:\n",
        "                bad_col.append(i)\n",
        "                print(a,\"\\t\",i)\n",
        "bad_col"
      ]
    },
    {
      "cell_type": "code",
      "execution_count": 10,
      "metadata": {
        "id": "9Ct6ZnIPKo5I"
      },
      "outputs": [],
      "source": [
        "# replacing all ? with nan\n",
        "for i in bad_col:\n",
        "    inval=data[i][data[i] =='?'].index\n",
        "    data[i].loc[inval]=np.nan"
      ]
    },
    {
      "cell_type": "code",
      "execution_count": 11,
      "metadata": {
        "colab": {
          "base_uri": "https://localhost:8080/"
        },
        "id": "--S61oJWKo5K",
        "outputId": "38a434db-ecc1-4c0a-8f73-ec9dc2b3c067"
      },
      "outputs": [
        {
          "output_type": "execute_result",
          "data": {
            "text/plain": [
              "age                             1\n",
              "sex                           150\n",
              "on_thyroxine                    0\n",
              "query_on_thyroxine              0\n",
              "on_antithyroid_medication       0\n",
              "sick                            0\n",
              "pregnant                        0\n",
              "thyroid_surgery                 0\n",
              "I131_treatment                  0\n",
              "query_hypothyroid               0\n",
              "query_hyperthyroid              0\n",
              "lithium                         0\n",
              "goitre                          0\n",
              "tumor                           0\n",
              "hypopituitary                   0\n",
              "psych                           0\n",
              "TSH_measured                    0\n",
              "TSH                           369\n",
              "T3_measured                     0\n",
              "T3                            769\n",
              "TT4_measured                    0\n",
              "TT4                           231\n",
              "T4U_measured                    0\n",
              "T4U                           387\n",
              "FTI_measured                    0\n",
              "FTI                           385\n",
              "TBG_measured                    0\n",
              "TBG                          3772\n",
              "referral_source                 0\n",
              "Class                           0\n",
              "dtype: int64"
            ]
          },
          "metadata": {},
          "execution_count": 11
        }
      ],
      "source": [
        "data.isnull().sum()"
      ]
    },
    {
      "cell_type": "code",
      "execution_count": 12,
      "metadata": {
        "id": "kbV9UpawKo5L"
      },
      "outputs": [],
      "source": [
        "#from above observations , we see that 'TBG' column is completely \n",
        "# full of invalid ? values , hence we remove that column\n",
        "\n",
        "pd.options.display.max_rows=20\n",
        "data.drop(['TBG'],axis=1,inplace=True)"
      ]
    },
    {
      "cell_type": "code",
      "execution_count": 13,
      "metadata": {
        "colab": {
          "base_uri": "https://localhost:8080/",
          "height": 488
        },
        "id": "bQC_erbRKo5M",
        "outputId": "b418fe73-9b3c-44b8-e972-2f8950d6aa2e"
      },
      "outputs": [
        {
          "output_type": "execute_result",
          "data": {
            "text/plain": [
              "     age sex on_thyroxine query_on_thyroxine on_antithyroid_medication sick  \\\n",
              "0     41   F            f                  f                         f    f   \n",
              "1     23   F            f                  f                         f    f   \n",
              "2     46   M            f                  f                         f    f   \n",
              "3     70   F            t                  f                         f    f   \n",
              "4     70   F            f                  f                         f    f   \n",
              "...   ..  ..          ...                ...                       ...  ...   \n",
              "3767  30   F            f                  f                         f    f   \n",
              "3768  68   F            f                  f                         f    f   \n",
              "3769  74   F            f                  f                         f    f   \n",
              "3770  72   M            f                  f                         f    f   \n",
              "3771  64   F            f                  f                         f    f   \n",
              "\n",
              "     pregnant thyroid_surgery I131_treatment query_hypothyroid  \\\n",
              "0           f               f              f                 f   \n",
              "1           f               f              f                 f   \n",
              "2           f               f              f                 f   \n",
              "3           f               f              f                 f   \n",
              "4           f               f              f                 f   \n",
              "...       ...             ...            ...               ...   \n",
              "3767        f               f              f                 f   \n",
              "3768        f               f              f                 f   \n",
              "3769        f               f              f                 f   \n",
              "3770        f               f              f                 f   \n",
              "3771        f               f              f                 f   \n",
              "\n",
              "     query_hyperthyroid lithium goitre tumor hypopituitary psych TSH_measured  \\\n",
              "0                     f       f      f     f             f     f            t   \n",
              "1                     f       f      f     f             f     f            t   \n",
              "2                     f       f      f     f             f     f            t   \n",
              "3                     f       f      f     f             f     f            t   \n",
              "4                     f       f      f     f             f     f            t   \n",
              "...                 ...     ...    ...   ...           ...   ...          ...   \n",
              "3767                  f       f      f     t             f     f            f   \n",
              "3768                  f       f      f     f             f     f            t   \n",
              "3769                  t       f      f     f             f     f            t   \n",
              "3770                  f       f      f     f             f     f            t   \n",
              "3771                  f       f      f     f             f     f            t   \n",
              "\n",
              "       TSH T3_measured   T3 TT4_measured  TT4 T4U_measured   T4U FTI_measured  \\\n",
              "0      1.3           t  2.5            t  125            t  1.14            t   \n",
              "1      4.1           t    2            t  102            f   NaN            f   \n",
              "2     0.98           f  NaN            t  109            t  0.91            t   \n",
              "3     0.16           t  1.9            t  175            f   NaN            f   \n",
              "4     0.72           t  1.2            t   61            t  0.87            t   \n",
              "...    ...         ...  ...          ...  ...          ...   ...          ...   \n",
              "3767   NaN           f  NaN            f  NaN            f   NaN            f   \n",
              "3768     1           t  2.1            t  124            t  1.08            t   \n",
              "3769   5.1           t  1.8            t  112            t  1.07            t   \n",
              "3770   0.7           t    2            t   82            t  0.94            t   \n",
              "3771     1           t  2.2            t   99            t  1.07            t   \n",
              "\n",
              "      FTI TBG_measured referral_source     Class  \n",
              "0     109            f            SVHC  negative  \n",
              "1     NaN            f           other  negative  \n",
              "2     120            f           other  negative  \n",
              "3     NaN            f           other  negative  \n",
              "4      70            f             SVI  negative  \n",
              "...   ...          ...             ...       ...  \n",
              "3767  NaN            f           other  negative  \n",
              "3768  114            f             SVI  negative  \n",
              "3769  105            f           other  negative  \n",
              "3770   87            f             SVI  negative  \n",
              "3771   92            f           other  negative  \n",
              "\n",
              "[3772 rows x 29 columns]"
            ],
            "text/html": [
              "\n",
              "  <div id=\"df-3ce76364-0c93-418f-964e-e172be4a6ed6\">\n",
              "    <div class=\"colab-df-container\">\n",
              "      <div>\n",
              "<style scoped>\n",
              "    .dataframe tbody tr th:only-of-type {\n",
              "        vertical-align: middle;\n",
              "    }\n",
              "\n",
              "    .dataframe tbody tr th {\n",
              "        vertical-align: top;\n",
              "    }\n",
              "\n",
              "    .dataframe thead th {\n",
              "        text-align: right;\n",
              "    }\n",
              "</style>\n",
              "<table border=\"1\" class=\"dataframe\">\n",
              "  <thead>\n",
              "    <tr style=\"text-align: right;\">\n",
              "      <th></th>\n",
              "      <th>age</th>\n",
              "      <th>sex</th>\n",
              "      <th>on_thyroxine</th>\n",
              "      <th>query_on_thyroxine</th>\n",
              "      <th>on_antithyroid_medication</th>\n",
              "      <th>sick</th>\n",
              "      <th>pregnant</th>\n",
              "      <th>thyroid_surgery</th>\n",
              "      <th>I131_treatment</th>\n",
              "      <th>query_hypothyroid</th>\n",
              "      <th>query_hyperthyroid</th>\n",
              "      <th>lithium</th>\n",
              "      <th>goitre</th>\n",
              "      <th>tumor</th>\n",
              "      <th>hypopituitary</th>\n",
              "      <th>psych</th>\n",
              "      <th>TSH_measured</th>\n",
              "      <th>TSH</th>\n",
              "      <th>T3_measured</th>\n",
              "      <th>T3</th>\n",
              "      <th>TT4_measured</th>\n",
              "      <th>TT4</th>\n",
              "      <th>T4U_measured</th>\n",
              "      <th>T4U</th>\n",
              "      <th>FTI_measured</th>\n",
              "      <th>FTI</th>\n",
              "      <th>TBG_measured</th>\n",
              "      <th>referral_source</th>\n",
              "      <th>Class</th>\n",
              "    </tr>\n",
              "  </thead>\n",
              "  <tbody>\n",
              "    <tr>\n",
              "      <th>0</th>\n",
              "      <td>41</td>\n",
              "      <td>F</td>\n",
              "      <td>f</td>\n",
              "      <td>f</td>\n",
              "      <td>f</td>\n",
              "      <td>f</td>\n",
              "      <td>f</td>\n",
              "      <td>f</td>\n",
              "      <td>f</td>\n",
              "      <td>f</td>\n",
              "      <td>f</td>\n",
              "      <td>f</td>\n",
              "      <td>f</td>\n",
              "      <td>f</td>\n",
              "      <td>f</td>\n",
              "      <td>f</td>\n",
              "      <td>t</td>\n",
              "      <td>1.3</td>\n",
              "      <td>t</td>\n",
              "      <td>2.5</td>\n",
              "      <td>t</td>\n",
              "      <td>125</td>\n",
              "      <td>t</td>\n",
              "      <td>1.14</td>\n",
              "      <td>t</td>\n",
              "      <td>109</td>\n",
              "      <td>f</td>\n",
              "      <td>SVHC</td>\n",
              "      <td>negative</td>\n",
              "    </tr>\n",
              "    <tr>\n",
              "      <th>1</th>\n",
              "      <td>23</td>\n",
              "      <td>F</td>\n",
              "      <td>f</td>\n",
              "      <td>f</td>\n",
              "      <td>f</td>\n",
              "      <td>f</td>\n",
              "      <td>f</td>\n",
              "      <td>f</td>\n",
              "      <td>f</td>\n",
              "      <td>f</td>\n",
              "      <td>f</td>\n",
              "      <td>f</td>\n",
              "      <td>f</td>\n",
              "      <td>f</td>\n",
              "      <td>f</td>\n",
              "      <td>f</td>\n",
              "      <td>t</td>\n",
              "      <td>4.1</td>\n",
              "      <td>t</td>\n",
              "      <td>2</td>\n",
              "      <td>t</td>\n",
              "      <td>102</td>\n",
              "      <td>f</td>\n",
              "      <td>NaN</td>\n",
              "      <td>f</td>\n",
              "      <td>NaN</td>\n",
              "      <td>f</td>\n",
              "      <td>other</td>\n",
              "      <td>negative</td>\n",
              "    </tr>\n",
              "    <tr>\n",
              "      <th>2</th>\n",
              "      <td>46</td>\n",
              "      <td>M</td>\n",
              "      <td>f</td>\n",
              "      <td>f</td>\n",
              "      <td>f</td>\n",
              "      <td>f</td>\n",
              "      <td>f</td>\n",
              "      <td>f</td>\n",
              "      <td>f</td>\n",
              "      <td>f</td>\n",
              "      <td>f</td>\n",
              "      <td>f</td>\n",
              "      <td>f</td>\n",
              "      <td>f</td>\n",
              "      <td>f</td>\n",
              "      <td>f</td>\n",
              "      <td>t</td>\n",
              "      <td>0.98</td>\n",
              "      <td>f</td>\n",
              "      <td>NaN</td>\n",
              "      <td>t</td>\n",
              "      <td>109</td>\n",
              "      <td>t</td>\n",
              "      <td>0.91</td>\n",
              "      <td>t</td>\n",
              "      <td>120</td>\n",
              "      <td>f</td>\n",
              "      <td>other</td>\n",
              "      <td>negative</td>\n",
              "    </tr>\n",
              "    <tr>\n",
              "      <th>3</th>\n",
              "      <td>70</td>\n",
              "      <td>F</td>\n",
              "      <td>t</td>\n",
              "      <td>f</td>\n",
              "      <td>f</td>\n",
              "      <td>f</td>\n",
              "      <td>f</td>\n",
              "      <td>f</td>\n",
              "      <td>f</td>\n",
              "      <td>f</td>\n",
              "      <td>f</td>\n",
              "      <td>f</td>\n",
              "      <td>f</td>\n",
              "      <td>f</td>\n",
              "      <td>f</td>\n",
              "      <td>f</td>\n",
              "      <td>t</td>\n",
              "      <td>0.16</td>\n",
              "      <td>t</td>\n",
              "      <td>1.9</td>\n",
              "      <td>t</td>\n",
              "      <td>175</td>\n",
              "      <td>f</td>\n",
              "      <td>NaN</td>\n",
              "      <td>f</td>\n",
              "      <td>NaN</td>\n",
              "      <td>f</td>\n",
              "      <td>other</td>\n",
              "      <td>negative</td>\n",
              "    </tr>\n",
              "    <tr>\n",
              "      <th>4</th>\n",
              "      <td>70</td>\n",
              "      <td>F</td>\n",
              "      <td>f</td>\n",
              "      <td>f</td>\n",
              "      <td>f</td>\n",
              "      <td>f</td>\n",
              "      <td>f</td>\n",
              "      <td>f</td>\n",
              "      <td>f</td>\n",
              "      <td>f</td>\n",
              "      <td>f</td>\n",
              "      <td>f</td>\n",
              "      <td>f</td>\n",
              "      <td>f</td>\n",
              "      <td>f</td>\n",
              "      <td>f</td>\n",
              "      <td>t</td>\n",
              "      <td>0.72</td>\n",
              "      <td>t</td>\n",
              "      <td>1.2</td>\n",
              "      <td>t</td>\n",
              "      <td>61</td>\n",
              "      <td>t</td>\n",
              "      <td>0.87</td>\n",
              "      <td>t</td>\n",
              "      <td>70</td>\n",
              "      <td>f</td>\n",
              "      <td>SVI</td>\n",
              "      <td>negative</td>\n",
              "    </tr>\n",
              "    <tr>\n",
              "      <th>...</th>\n",
              "      <td>...</td>\n",
              "      <td>...</td>\n",
              "      <td>...</td>\n",
              "      <td>...</td>\n",
              "      <td>...</td>\n",
              "      <td>...</td>\n",
              "      <td>...</td>\n",
              "      <td>...</td>\n",
              "      <td>...</td>\n",
              "      <td>...</td>\n",
              "      <td>...</td>\n",
              "      <td>...</td>\n",
              "      <td>...</td>\n",
              "      <td>...</td>\n",
              "      <td>...</td>\n",
              "      <td>...</td>\n",
              "      <td>...</td>\n",
              "      <td>...</td>\n",
              "      <td>...</td>\n",
              "      <td>...</td>\n",
              "      <td>...</td>\n",
              "      <td>...</td>\n",
              "      <td>...</td>\n",
              "      <td>...</td>\n",
              "      <td>...</td>\n",
              "      <td>...</td>\n",
              "      <td>...</td>\n",
              "      <td>...</td>\n",
              "      <td>...</td>\n",
              "    </tr>\n",
              "    <tr>\n",
              "      <th>3767</th>\n",
              "      <td>30</td>\n",
              "      <td>F</td>\n",
              "      <td>f</td>\n",
              "      <td>f</td>\n",
              "      <td>f</td>\n",
              "      <td>f</td>\n",
              "      <td>f</td>\n",
              "      <td>f</td>\n",
              "      <td>f</td>\n",
              "      <td>f</td>\n",
              "      <td>f</td>\n",
              "      <td>f</td>\n",
              "      <td>f</td>\n",
              "      <td>t</td>\n",
              "      <td>f</td>\n",
              "      <td>f</td>\n",
              "      <td>f</td>\n",
              "      <td>NaN</td>\n",
              "      <td>f</td>\n",
              "      <td>NaN</td>\n",
              "      <td>f</td>\n",
              "      <td>NaN</td>\n",
              "      <td>f</td>\n",
              "      <td>NaN</td>\n",
              "      <td>f</td>\n",
              "      <td>NaN</td>\n",
              "      <td>f</td>\n",
              "      <td>other</td>\n",
              "      <td>negative</td>\n",
              "    </tr>\n",
              "    <tr>\n",
              "      <th>3768</th>\n",
              "      <td>68</td>\n",
              "      <td>F</td>\n",
              "      <td>f</td>\n",
              "      <td>f</td>\n",
              "      <td>f</td>\n",
              "      <td>f</td>\n",
              "      <td>f</td>\n",
              "      <td>f</td>\n",
              "      <td>f</td>\n",
              "      <td>f</td>\n",
              "      <td>f</td>\n",
              "      <td>f</td>\n",
              "      <td>f</td>\n",
              "      <td>f</td>\n",
              "      <td>f</td>\n",
              "      <td>f</td>\n",
              "      <td>t</td>\n",
              "      <td>1</td>\n",
              "      <td>t</td>\n",
              "      <td>2.1</td>\n",
              "      <td>t</td>\n",
              "      <td>124</td>\n",
              "      <td>t</td>\n",
              "      <td>1.08</td>\n",
              "      <td>t</td>\n",
              "      <td>114</td>\n",
              "      <td>f</td>\n",
              "      <td>SVI</td>\n",
              "      <td>negative</td>\n",
              "    </tr>\n",
              "    <tr>\n",
              "      <th>3769</th>\n",
              "      <td>74</td>\n",
              "      <td>F</td>\n",
              "      <td>f</td>\n",
              "      <td>f</td>\n",
              "      <td>f</td>\n",
              "      <td>f</td>\n",
              "      <td>f</td>\n",
              "      <td>f</td>\n",
              "      <td>f</td>\n",
              "      <td>f</td>\n",
              "      <td>t</td>\n",
              "      <td>f</td>\n",
              "      <td>f</td>\n",
              "      <td>f</td>\n",
              "      <td>f</td>\n",
              "      <td>f</td>\n",
              "      <td>t</td>\n",
              "      <td>5.1</td>\n",
              "      <td>t</td>\n",
              "      <td>1.8</td>\n",
              "      <td>t</td>\n",
              "      <td>112</td>\n",
              "      <td>t</td>\n",
              "      <td>1.07</td>\n",
              "      <td>t</td>\n",
              "      <td>105</td>\n",
              "      <td>f</td>\n",
              "      <td>other</td>\n",
              "      <td>negative</td>\n",
              "    </tr>\n",
              "    <tr>\n",
              "      <th>3770</th>\n",
              "      <td>72</td>\n",
              "      <td>M</td>\n",
              "      <td>f</td>\n",
              "      <td>f</td>\n",
              "      <td>f</td>\n",
              "      <td>f</td>\n",
              "      <td>f</td>\n",
              "      <td>f</td>\n",
              "      <td>f</td>\n",
              "      <td>f</td>\n",
              "      <td>f</td>\n",
              "      <td>f</td>\n",
              "      <td>f</td>\n",
              "      <td>f</td>\n",
              "      <td>f</td>\n",
              "      <td>f</td>\n",
              "      <td>t</td>\n",
              "      <td>0.7</td>\n",
              "      <td>t</td>\n",
              "      <td>2</td>\n",
              "      <td>t</td>\n",
              "      <td>82</td>\n",
              "      <td>t</td>\n",
              "      <td>0.94</td>\n",
              "      <td>t</td>\n",
              "      <td>87</td>\n",
              "      <td>f</td>\n",
              "      <td>SVI</td>\n",
              "      <td>negative</td>\n",
              "    </tr>\n",
              "    <tr>\n",
              "      <th>3771</th>\n",
              "      <td>64</td>\n",
              "      <td>F</td>\n",
              "      <td>f</td>\n",
              "      <td>f</td>\n",
              "      <td>f</td>\n",
              "      <td>f</td>\n",
              "      <td>f</td>\n",
              "      <td>f</td>\n",
              "      <td>f</td>\n",
              "      <td>f</td>\n",
              "      <td>f</td>\n",
              "      <td>f</td>\n",
              "      <td>f</td>\n",
              "      <td>f</td>\n",
              "      <td>f</td>\n",
              "      <td>f</td>\n",
              "      <td>t</td>\n",
              "      <td>1</td>\n",
              "      <td>t</td>\n",
              "      <td>2.2</td>\n",
              "      <td>t</td>\n",
              "      <td>99</td>\n",
              "      <td>t</td>\n",
              "      <td>1.07</td>\n",
              "      <td>t</td>\n",
              "      <td>92</td>\n",
              "      <td>f</td>\n",
              "      <td>other</td>\n",
              "      <td>negative</td>\n",
              "    </tr>\n",
              "  </tbody>\n",
              "</table>\n",
              "<p>3772 rows × 29 columns</p>\n",
              "</div>\n",
              "      <button class=\"colab-df-convert\" onclick=\"convertToInteractive('df-3ce76364-0c93-418f-964e-e172be4a6ed6')\"\n",
              "              title=\"Convert this dataframe to an interactive table.\"\n",
              "              style=\"display:none;\">\n",
              "        \n",
              "  <svg xmlns=\"http://www.w3.org/2000/svg\" height=\"24px\"viewBox=\"0 0 24 24\"\n",
              "       width=\"24px\">\n",
              "    <path d=\"M0 0h24v24H0V0z\" fill=\"none\"/>\n",
              "    <path d=\"M18.56 5.44l.94 2.06.94-2.06 2.06-.94-2.06-.94-.94-2.06-.94 2.06-2.06.94zm-11 1L8.5 8.5l.94-2.06 2.06-.94-2.06-.94L8.5 2.5l-.94 2.06-2.06.94zm10 10l.94 2.06.94-2.06 2.06-.94-2.06-.94-.94-2.06-.94 2.06-2.06.94z\"/><path d=\"M17.41 7.96l-1.37-1.37c-.4-.4-.92-.59-1.43-.59-.52 0-1.04.2-1.43.59L10.3 9.45l-7.72 7.72c-.78.78-.78 2.05 0 2.83L4 21.41c.39.39.9.59 1.41.59.51 0 1.02-.2 1.41-.59l7.78-7.78 2.81-2.81c.8-.78.8-2.07 0-2.86zM5.41 20L4 18.59l7.72-7.72 1.47 1.35L5.41 20z\"/>\n",
              "  </svg>\n",
              "      </button>\n",
              "      \n",
              "  <style>\n",
              "    .colab-df-container {\n",
              "      display:flex;\n",
              "      flex-wrap:wrap;\n",
              "      gap: 12px;\n",
              "    }\n",
              "\n",
              "    .colab-df-convert {\n",
              "      background-color: #E8F0FE;\n",
              "      border: none;\n",
              "      border-radius: 50%;\n",
              "      cursor: pointer;\n",
              "      display: none;\n",
              "      fill: #1967D2;\n",
              "      height: 32px;\n",
              "      padding: 0 0 0 0;\n",
              "      width: 32px;\n",
              "    }\n",
              "\n",
              "    .colab-df-convert:hover {\n",
              "      background-color: #E2EBFA;\n",
              "      box-shadow: 0px 1px 2px rgba(60, 64, 67, 0.3), 0px 1px 3px 1px rgba(60, 64, 67, 0.15);\n",
              "      fill: #174EA6;\n",
              "    }\n",
              "\n",
              "    [theme=dark] .colab-df-convert {\n",
              "      background-color: #3B4455;\n",
              "      fill: #D2E3FC;\n",
              "    }\n",
              "\n",
              "    [theme=dark] .colab-df-convert:hover {\n",
              "      background-color: #434B5C;\n",
              "      box-shadow: 0px 1px 3px 1px rgba(0, 0, 0, 0.15);\n",
              "      filter: drop-shadow(0px 1px 2px rgba(0, 0, 0, 0.3));\n",
              "      fill: #FFFFFF;\n",
              "    }\n",
              "  </style>\n",
              "\n",
              "      <script>\n",
              "        const buttonEl =\n",
              "          document.querySelector('#df-3ce76364-0c93-418f-964e-e172be4a6ed6 button.colab-df-convert');\n",
              "        buttonEl.style.display =\n",
              "          google.colab.kernel.accessAllowed ? 'block' : 'none';\n",
              "\n",
              "        async function convertToInteractive(key) {\n",
              "          const element = document.querySelector('#df-3ce76364-0c93-418f-964e-e172be4a6ed6');\n",
              "          const dataTable =\n",
              "            await google.colab.kernel.invokeFunction('convertToInteractive',\n",
              "                                                     [key], {});\n",
              "          if (!dataTable) return;\n",
              "\n",
              "          const docLinkHtml = 'Like what you see? Visit the ' +\n",
              "            '<a target=\"_blank\" href=https://colab.research.google.com/notebooks/data_table.ipynb>data table notebook</a>'\n",
              "            + ' to learn more about interactive tables.';\n",
              "          element.innerHTML = '';\n",
              "          dataTable['output_type'] = 'display_data';\n",
              "          await google.colab.output.renderOutput(dataTable, element);\n",
              "          const docLink = document.createElement('div');\n",
              "          docLink.innerHTML = docLinkHtml;\n",
              "          element.appendChild(docLink);\n",
              "        }\n",
              "      </script>\n",
              "    </div>\n",
              "  </div>\n",
              "  "
            ]
          },
          "metadata": {},
          "execution_count": 13
        }
      ],
      "source": [
        "data"
      ]
    },
    {
      "cell_type": "code",
      "execution_count": 14,
      "metadata": {
        "id": "BEw3KFJqKo5N"
      },
      "outputs": [],
      "source": [
        "# we can also observe that all the columns of the format x_measured \n",
        "# are just an indication of , whether the column x is measured or not\n",
        "# and hence , it tells if value in it is nan or not\n",
        "\n",
        "# So, there is no point in keeping those columns , so we drop them\n",
        "\n",
        "data.drop(['TSH_measured','T3_measured','TT4_measured','T4U_measured','FTI_measured','TBG_measured'],axis =1,inplace=True)"
      ]
    },
    {
      "cell_type": "code",
      "execution_count": 15,
      "metadata": {
        "id": "bOQ5y-h8Ko5N"
      },
      "outputs": [],
      "source": [
        "# from observations \n",
        "# numeric cols - age,TSH,T3,TT4,T4U,FTI,TBG\n",
        "\n",
        "for i in [ 'age','TSH','T3','TT4','T4U','FTI']:\n",
        "    data[i]=pd.to_numeric(data[i])"
      ]
    },
    {
      "cell_type": "code",
      "execution_count": 16,
      "metadata": {
        "colab": {
          "base_uri": "https://localhost:8080/",
          "height": 300
        },
        "id": "PTOZj0cOKo5O",
        "outputId": "2f517998-0db5-484f-ecbc-b69f3e067e75"
      },
      "outputs": [
        {
          "output_type": "execute_result",
          "data": {
            "text/plain": [
              "               age          TSH           T3          TT4          T4U  \\\n",
              "count  3771.000000  3403.000000  3003.000000  3541.000000  3385.000000   \n",
              "mean     51.735879     5.086766     2.013500   108.319345     0.995000   \n",
              "std      20.084958    24.521470     0.827434    35.604248     0.195457   \n",
              "min       1.000000     0.005000     0.050000     2.000000     0.250000   \n",
              "25%      36.000000     0.500000     1.600000    88.000000     0.880000   \n",
              "50%      54.000000     1.400000     2.000000   103.000000     0.980000   \n",
              "75%      67.000000     2.700000     2.400000   124.000000     1.080000   \n",
              "max     455.000000   530.000000    10.600000   430.000000     2.320000   \n",
              "\n",
              "               FTI  \n",
              "count  3387.000000  \n",
              "mean    110.469649  \n",
              "std      33.089698  \n",
              "min       2.000000  \n",
              "25%      93.000000  \n",
              "50%     107.000000  \n",
              "75%     124.000000  \n",
              "max     395.000000  "
            ],
            "text/html": [
              "\n",
              "  <div id=\"df-147d1469-2322-47be-ade1-07a8cc536ee3\">\n",
              "    <div class=\"colab-df-container\">\n",
              "      <div>\n",
              "<style scoped>\n",
              "    .dataframe tbody tr th:only-of-type {\n",
              "        vertical-align: middle;\n",
              "    }\n",
              "\n",
              "    .dataframe tbody tr th {\n",
              "        vertical-align: top;\n",
              "    }\n",
              "\n",
              "    .dataframe thead th {\n",
              "        text-align: right;\n",
              "    }\n",
              "</style>\n",
              "<table border=\"1\" class=\"dataframe\">\n",
              "  <thead>\n",
              "    <tr style=\"text-align: right;\">\n",
              "      <th></th>\n",
              "      <th>age</th>\n",
              "      <th>TSH</th>\n",
              "      <th>T3</th>\n",
              "      <th>TT4</th>\n",
              "      <th>T4U</th>\n",
              "      <th>FTI</th>\n",
              "    </tr>\n",
              "  </thead>\n",
              "  <tbody>\n",
              "    <tr>\n",
              "      <th>count</th>\n",
              "      <td>3771.000000</td>\n",
              "      <td>3403.000000</td>\n",
              "      <td>3003.000000</td>\n",
              "      <td>3541.000000</td>\n",
              "      <td>3385.000000</td>\n",
              "      <td>3387.000000</td>\n",
              "    </tr>\n",
              "    <tr>\n",
              "      <th>mean</th>\n",
              "      <td>51.735879</td>\n",
              "      <td>5.086766</td>\n",
              "      <td>2.013500</td>\n",
              "      <td>108.319345</td>\n",
              "      <td>0.995000</td>\n",
              "      <td>110.469649</td>\n",
              "    </tr>\n",
              "    <tr>\n",
              "      <th>std</th>\n",
              "      <td>20.084958</td>\n",
              "      <td>24.521470</td>\n",
              "      <td>0.827434</td>\n",
              "      <td>35.604248</td>\n",
              "      <td>0.195457</td>\n",
              "      <td>33.089698</td>\n",
              "    </tr>\n",
              "    <tr>\n",
              "      <th>min</th>\n",
              "      <td>1.000000</td>\n",
              "      <td>0.005000</td>\n",
              "      <td>0.050000</td>\n",
              "      <td>2.000000</td>\n",
              "      <td>0.250000</td>\n",
              "      <td>2.000000</td>\n",
              "    </tr>\n",
              "    <tr>\n",
              "      <th>25%</th>\n",
              "      <td>36.000000</td>\n",
              "      <td>0.500000</td>\n",
              "      <td>1.600000</td>\n",
              "      <td>88.000000</td>\n",
              "      <td>0.880000</td>\n",
              "      <td>93.000000</td>\n",
              "    </tr>\n",
              "    <tr>\n",
              "      <th>50%</th>\n",
              "      <td>54.000000</td>\n",
              "      <td>1.400000</td>\n",
              "      <td>2.000000</td>\n",
              "      <td>103.000000</td>\n",
              "      <td>0.980000</td>\n",
              "      <td>107.000000</td>\n",
              "    </tr>\n",
              "    <tr>\n",
              "      <th>75%</th>\n",
              "      <td>67.000000</td>\n",
              "      <td>2.700000</td>\n",
              "      <td>2.400000</td>\n",
              "      <td>124.000000</td>\n",
              "      <td>1.080000</td>\n",
              "      <td>124.000000</td>\n",
              "    </tr>\n",
              "    <tr>\n",
              "      <th>max</th>\n",
              "      <td>455.000000</td>\n",
              "      <td>530.000000</td>\n",
              "      <td>10.600000</td>\n",
              "      <td>430.000000</td>\n",
              "      <td>2.320000</td>\n",
              "      <td>395.000000</td>\n",
              "    </tr>\n",
              "  </tbody>\n",
              "</table>\n",
              "</div>\n",
              "      <button class=\"colab-df-convert\" onclick=\"convertToInteractive('df-147d1469-2322-47be-ade1-07a8cc536ee3')\"\n",
              "              title=\"Convert this dataframe to an interactive table.\"\n",
              "              style=\"display:none;\">\n",
              "        \n",
              "  <svg xmlns=\"http://www.w3.org/2000/svg\" height=\"24px\"viewBox=\"0 0 24 24\"\n",
              "       width=\"24px\">\n",
              "    <path d=\"M0 0h24v24H0V0z\" fill=\"none\"/>\n",
              "    <path d=\"M18.56 5.44l.94 2.06.94-2.06 2.06-.94-2.06-.94-.94-2.06-.94 2.06-2.06.94zm-11 1L8.5 8.5l.94-2.06 2.06-.94-2.06-.94L8.5 2.5l-.94 2.06-2.06.94zm10 10l.94 2.06.94-2.06 2.06-.94-2.06-.94-.94-2.06-.94 2.06-2.06.94z\"/><path d=\"M17.41 7.96l-1.37-1.37c-.4-.4-.92-.59-1.43-.59-.52 0-1.04.2-1.43.59L10.3 9.45l-7.72 7.72c-.78.78-.78 2.05 0 2.83L4 21.41c.39.39.9.59 1.41.59.51 0 1.02-.2 1.41-.59l7.78-7.78 2.81-2.81c.8-.78.8-2.07 0-2.86zM5.41 20L4 18.59l7.72-7.72 1.47 1.35L5.41 20z\"/>\n",
              "  </svg>\n",
              "      </button>\n",
              "      \n",
              "  <style>\n",
              "    .colab-df-container {\n",
              "      display:flex;\n",
              "      flex-wrap:wrap;\n",
              "      gap: 12px;\n",
              "    }\n",
              "\n",
              "    .colab-df-convert {\n",
              "      background-color: #E8F0FE;\n",
              "      border: none;\n",
              "      border-radius: 50%;\n",
              "      cursor: pointer;\n",
              "      display: none;\n",
              "      fill: #1967D2;\n",
              "      height: 32px;\n",
              "      padding: 0 0 0 0;\n",
              "      width: 32px;\n",
              "    }\n",
              "\n",
              "    .colab-df-convert:hover {\n",
              "      background-color: #E2EBFA;\n",
              "      box-shadow: 0px 1px 2px rgba(60, 64, 67, 0.3), 0px 1px 3px 1px rgba(60, 64, 67, 0.15);\n",
              "      fill: #174EA6;\n",
              "    }\n",
              "\n",
              "    [theme=dark] .colab-df-convert {\n",
              "      background-color: #3B4455;\n",
              "      fill: #D2E3FC;\n",
              "    }\n",
              "\n",
              "    [theme=dark] .colab-df-convert:hover {\n",
              "      background-color: #434B5C;\n",
              "      box-shadow: 0px 1px 3px 1px rgba(0, 0, 0, 0.15);\n",
              "      filter: drop-shadow(0px 1px 2px rgba(0, 0, 0, 0.3));\n",
              "      fill: #FFFFFF;\n",
              "    }\n",
              "  </style>\n",
              "\n",
              "      <script>\n",
              "        const buttonEl =\n",
              "          document.querySelector('#df-147d1469-2322-47be-ade1-07a8cc536ee3 button.colab-df-convert');\n",
              "        buttonEl.style.display =\n",
              "          google.colab.kernel.accessAllowed ? 'block' : 'none';\n",
              "\n",
              "        async function convertToInteractive(key) {\n",
              "          const element = document.querySelector('#df-147d1469-2322-47be-ade1-07a8cc536ee3');\n",
              "          const dataTable =\n",
              "            await google.colab.kernel.invokeFunction('convertToInteractive',\n",
              "                                                     [key], {});\n",
              "          if (!dataTable) return;\n",
              "\n",
              "          const docLinkHtml = 'Like what you see? Visit the ' +\n",
              "            '<a target=\"_blank\" href=https://colab.research.google.com/notebooks/data_table.ipynb>data table notebook</a>'\n",
              "            + ' to learn more about interactive tables.';\n",
              "          element.innerHTML = '';\n",
              "          dataTable['output_type'] = 'display_data';\n",
              "          await google.colab.output.renderOutput(dataTable, element);\n",
              "          const docLink = document.createElement('div');\n",
              "          docLink.innerHTML = docLinkHtml;\n",
              "          element.appendChild(docLink);\n",
              "        }\n",
              "      </script>\n",
              "    </div>\n",
              "  </div>\n",
              "  "
            ]
          },
          "metadata": {},
          "execution_count": 16
        }
      ],
      "source": [
        "num_index=data.dtypes[data.dtypes==\"float64\"].index\n",
        "data[num_index].describe()"
      ]
    },
    {
      "cell_type": "code",
      "execution_count": 17,
      "metadata": {
        "colab": {
          "base_uri": "https://localhost:8080/",
          "height": 239
        },
        "id": "r_asHrPoKo5O",
        "outputId": "495b14ef-f38e-4bf2-bc64-69e19b1bf5c4"
      },
      "outputs": [
        {
          "output_type": "execute_result",
          "data": {
            "text/plain": [
              "         sex on_thyroxine query_on_thyroxine on_antithyroid_medication  sick  \\\n",
              "count   3622         3772               3772                      3772  3772   \n",
              "unique     2            2                  2                         2     2   \n",
              "top        F            f                  f                         f     f   \n",
              "freq    2480         3308               3722                      3729  3625   \n",
              "\n",
              "       pregnant thyroid_surgery I131_treatment query_hypothyroid  \\\n",
              "count      3772            3772           3772              3772   \n",
              "unique        2               2              2                 2   \n",
              "top           f               f              f                 f   \n",
              "freq       3719            3719           3713              3538   \n",
              "\n",
              "       query_hyperthyroid lithium goitre tumor hypopituitary psych  \\\n",
              "count                3772    3772   3772  3772          3772  3772   \n",
              "unique                  2       2      2     2             2     2   \n",
              "top                     f       f      f     f             f     f   \n",
              "freq                 3535    3754   3738  3676          3771  3588   \n",
              "\n",
              "       referral_source     Class  \n",
              "count             3772      3772  \n",
              "unique               5         4  \n",
              "top              other  negative  \n",
              "freq              2201      3481  "
            ],
            "text/html": [
              "\n",
              "  <div id=\"df-8d982e45-296c-47e6-bbd9-979125d39580\">\n",
              "    <div class=\"colab-df-container\">\n",
              "      <div>\n",
              "<style scoped>\n",
              "    .dataframe tbody tr th:only-of-type {\n",
              "        vertical-align: middle;\n",
              "    }\n",
              "\n",
              "    .dataframe tbody tr th {\n",
              "        vertical-align: top;\n",
              "    }\n",
              "\n",
              "    .dataframe thead th {\n",
              "        text-align: right;\n",
              "    }\n",
              "</style>\n",
              "<table border=\"1\" class=\"dataframe\">\n",
              "  <thead>\n",
              "    <tr style=\"text-align: right;\">\n",
              "      <th></th>\n",
              "      <th>sex</th>\n",
              "      <th>on_thyroxine</th>\n",
              "      <th>query_on_thyroxine</th>\n",
              "      <th>on_antithyroid_medication</th>\n",
              "      <th>sick</th>\n",
              "      <th>pregnant</th>\n",
              "      <th>thyroid_surgery</th>\n",
              "      <th>I131_treatment</th>\n",
              "      <th>query_hypothyroid</th>\n",
              "      <th>query_hyperthyroid</th>\n",
              "      <th>lithium</th>\n",
              "      <th>goitre</th>\n",
              "      <th>tumor</th>\n",
              "      <th>hypopituitary</th>\n",
              "      <th>psych</th>\n",
              "      <th>referral_source</th>\n",
              "      <th>Class</th>\n",
              "    </tr>\n",
              "  </thead>\n",
              "  <tbody>\n",
              "    <tr>\n",
              "      <th>count</th>\n",
              "      <td>3622</td>\n",
              "      <td>3772</td>\n",
              "      <td>3772</td>\n",
              "      <td>3772</td>\n",
              "      <td>3772</td>\n",
              "      <td>3772</td>\n",
              "      <td>3772</td>\n",
              "      <td>3772</td>\n",
              "      <td>3772</td>\n",
              "      <td>3772</td>\n",
              "      <td>3772</td>\n",
              "      <td>3772</td>\n",
              "      <td>3772</td>\n",
              "      <td>3772</td>\n",
              "      <td>3772</td>\n",
              "      <td>3772</td>\n",
              "      <td>3772</td>\n",
              "    </tr>\n",
              "    <tr>\n",
              "      <th>unique</th>\n",
              "      <td>2</td>\n",
              "      <td>2</td>\n",
              "      <td>2</td>\n",
              "      <td>2</td>\n",
              "      <td>2</td>\n",
              "      <td>2</td>\n",
              "      <td>2</td>\n",
              "      <td>2</td>\n",
              "      <td>2</td>\n",
              "      <td>2</td>\n",
              "      <td>2</td>\n",
              "      <td>2</td>\n",
              "      <td>2</td>\n",
              "      <td>2</td>\n",
              "      <td>2</td>\n",
              "      <td>5</td>\n",
              "      <td>4</td>\n",
              "    </tr>\n",
              "    <tr>\n",
              "      <th>top</th>\n",
              "      <td>F</td>\n",
              "      <td>f</td>\n",
              "      <td>f</td>\n",
              "      <td>f</td>\n",
              "      <td>f</td>\n",
              "      <td>f</td>\n",
              "      <td>f</td>\n",
              "      <td>f</td>\n",
              "      <td>f</td>\n",
              "      <td>f</td>\n",
              "      <td>f</td>\n",
              "      <td>f</td>\n",
              "      <td>f</td>\n",
              "      <td>f</td>\n",
              "      <td>f</td>\n",
              "      <td>other</td>\n",
              "      <td>negative</td>\n",
              "    </tr>\n",
              "    <tr>\n",
              "      <th>freq</th>\n",
              "      <td>2480</td>\n",
              "      <td>3308</td>\n",
              "      <td>3722</td>\n",
              "      <td>3729</td>\n",
              "      <td>3625</td>\n",
              "      <td>3719</td>\n",
              "      <td>3719</td>\n",
              "      <td>3713</td>\n",
              "      <td>3538</td>\n",
              "      <td>3535</td>\n",
              "      <td>3754</td>\n",
              "      <td>3738</td>\n",
              "      <td>3676</td>\n",
              "      <td>3771</td>\n",
              "      <td>3588</td>\n",
              "      <td>2201</td>\n",
              "      <td>3481</td>\n",
              "    </tr>\n",
              "  </tbody>\n",
              "</table>\n",
              "</div>\n",
              "      <button class=\"colab-df-convert\" onclick=\"convertToInteractive('df-8d982e45-296c-47e6-bbd9-979125d39580')\"\n",
              "              title=\"Convert this dataframe to an interactive table.\"\n",
              "              style=\"display:none;\">\n",
              "        \n",
              "  <svg xmlns=\"http://www.w3.org/2000/svg\" height=\"24px\"viewBox=\"0 0 24 24\"\n",
              "       width=\"24px\">\n",
              "    <path d=\"M0 0h24v24H0V0z\" fill=\"none\"/>\n",
              "    <path d=\"M18.56 5.44l.94 2.06.94-2.06 2.06-.94-2.06-.94-.94-2.06-.94 2.06-2.06.94zm-11 1L8.5 8.5l.94-2.06 2.06-.94-2.06-.94L8.5 2.5l-.94 2.06-2.06.94zm10 10l.94 2.06.94-2.06 2.06-.94-2.06-.94-.94-2.06-.94 2.06-2.06.94z\"/><path d=\"M17.41 7.96l-1.37-1.37c-.4-.4-.92-.59-1.43-.59-.52 0-1.04.2-1.43.59L10.3 9.45l-7.72 7.72c-.78.78-.78 2.05 0 2.83L4 21.41c.39.39.9.59 1.41.59.51 0 1.02-.2 1.41-.59l7.78-7.78 2.81-2.81c.8-.78.8-2.07 0-2.86zM5.41 20L4 18.59l7.72-7.72 1.47 1.35L5.41 20z\"/>\n",
              "  </svg>\n",
              "      </button>\n",
              "      \n",
              "  <style>\n",
              "    .colab-df-container {\n",
              "      display:flex;\n",
              "      flex-wrap:wrap;\n",
              "      gap: 12px;\n",
              "    }\n",
              "\n",
              "    .colab-df-convert {\n",
              "      background-color: #E8F0FE;\n",
              "      border: none;\n",
              "      border-radius: 50%;\n",
              "      cursor: pointer;\n",
              "      display: none;\n",
              "      fill: #1967D2;\n",
              "      height: 32px;\n",
              "      padding: 0 0 0 0;\n",
              "      width: 32px;\n",
              "    }\n",
              "\n",
              "    .colab-df-convert:hover {\n",
              "      background-color: #E2EBFA;\n",
              "      box-shadow: 0px 1px 2px rgba(60, 64, 67, 0.3), 0px 1px 3px 1px rgba(60, 64, 67, 0.15);\n",
              "      fill: #174EA6;\n",
              "    }\n",
              "\n",
              "    [theme=dark] .colab-df-convert {\n",
              "      background-color: #3B4455;\n",
              "      fill: #D2E3FC;\n",
              "    }\n",
              "\n",
              "    [theme=dark] .colab-df-convert:hover {\n",
              "      background-color: #434B5C;\n",
              "      box-shadow: 0px 1px 3px 1px rgba(0, 0, 0, 0.15);\n",
              "      filter: drop-shadow(0px 1px 2px rgba(0, 0, 0, 0.3));\n",
              "      fill: #FFFFFF;\n",
              "    }\n",
              "  </style>\n",
              "\n",
              "      <script>\n",
              "        const buttonEl =\n",
              "          document.querySelector('#df-8d982e45-296c-47e6-bbd9-979125d39580 button.colab-df-convert');\n",
              "        buttonEl.style.display =\n",
              "          google.colab.kernel.accessAllowed ? 'block' : 'none';\n",
              "\n",
              "        async function convertToInteractive(key) {\n",
              "          const element = document.querySelector('#df-8d982e45-296c-47e6-bbd9-979125d39580');\n",
              "          const dataTable =\n",
              "            await google.colab.kernel.invokeFunction('convertToInteractive',\n",
              "                                                     [key], {});\n",
              "          if (!dataTable) return;\n",
              "\n",
              "          const docLinkHtml = 'Like what you see? Visit the ' +\n",
              "            '<a target=\"_blank\" href=https://colab.research.google.com/notebooks/data_table.ipynb>data table notebook</a>'\n",
              "            + ' to learn more about interactive tables.';\n",
              "          element.innerHTML = '';\n",
              "          dataTable['output_type'] = 'display_data';\n",
              "          await google.colab.output.renderOutput(dataTable, element);\n",
              "          const docLink = document.createElement('div');\n",
              "          docLink.innerHTML = docLinkHtml;\n",
              "          element.appendChild(docLink);\n",
              "        }\n",
              "      </script>\n",
              "    </div>\n",
              "  </div>\n",
              "  "
            ]
          },
          "metadata": {},
          "execution_count": 17
        }
      ],
      "source": [
        "categ_index=data.dtypes[data.dtypes=='object'].index\n",
        "data[categ_index].describe()"
      ]
    },
    {
      "cell_type": "code",
      "execution_count": 18,
      "metadata": {
        "id": "8RJlHHHgKo5P"
      },
      "outputs": [],
      "source": [
        "# The fact that data is missing , for only some measurements indicates\n",
        "# that there is some important information it might denote\n",
        "\n",
        "# Hence , we capture the importance of nan values in a separate column\n",
        "# and impute the nan values in original col using KNN imputer\n",
        "\n",
        "from sklearn.impute import KNNImputer\n",
        "imputer=KNNImputer(missing_values=np.nan)\n",
        "\n",
        "\n",
        "for col in bad_col:\n",
        "    if col=='TBG':\n",
        "        continue\n",
        "    if col not in ['sex','age']:\n",
        "        data[col+\"_nan\"]=np.where(data[col].isnull(),1,0)\n",
        "    if data[col].dtype=='float64':\n",
        "        data[col]=imputer.fit_transform(data[[col]])\n",
        "    else :\n",
        "        data[col].fillna(data[col].mode()[0],inplace=True)\n",
        "\n",
        "  "
      ]
    },
    {
      "cell_type": "code",
      "execution_count": 19,
      "metadata": {
        "colab": {
          "base_uri": "https://localhost:8080/"
        },
        "id": "JIS31FzPKo5P",
        "outputId": "ef216473-af1d-460b-f4cf-7735b3a11684"
      },
      "outputs": [
        {
          "output_type": "execute_result",
          "data": {
            "text/plain": [
              "age                          0\n",
              "sex                          0\n",
              "on_thyroxine                 0\n",
              "query_on_thyroxine           0\n",
              "on_antithyroid_medication    0\n",
              "                            ..\n",
              "TSH_nan                      0\n",
              "T3_nan                       0\n",
              "TT4_nan                      0\n",
              "T4U_nan                      0\n",
              "FTI_nan                      0\n",
              "Length: 28, dtype: int64"
            ]
          },
          "metadata": {},
          "execution_count": 19
        }
      ],
      "source": [
        "data.isnull().sum()"
      ]
    },
    {
      "cell_type": "code",
      "execution_count": 20,
      "metadata": {
        "colab": {
          "base_uri": "https://localhost:8080/"
        },
        "id": "EkzkfNKuKo5Q",
        "outputId": "9034cf53-ff43-43af-e7df-ea1d77ed254e"
      },
      "outputs": [
        {
          "output_type": "execute_result",
          "data": {
            "text/plain": [
              "age                          float64\n",
              "sex                           object\n",
              "on_thyroxine                  object\n",
              "query_on_thyroxine            object\n",
              "on_antithyroid_medication     object\n",
              "                              ...   \n",
              "TSH_nan                        int64\n",
              "T3_nan                         int64\n",
              "TT4_nan                        int64\n",
              "T4U_nan                        int64\n",
              "FTI_nan                        int64\n",
              "Length: 28, dtype: object"
            ]
          },
          "metadata": {},
          "execution_count": 20
        }
      ],
      "source": [
        "data.dtypes"
      ]
    },
    {
      "cell_type": "code",
      "execution_count": 21,
      "metadata": {
        "id": "FlYkNSkkKo5R"
      },
      "outputs": [],
      "source": [
        "# Rearranging Data\n",
        "\n",
        "data=data[['age', 'sex', 'on_thyroxine', 'query_on_thyroxine',\n",
        "       'on_antithyroid_medication', 'sick', 'pregnant', 'thyroid_surgery',\n",
        "       'I131_treatment', 'query_hypothyroid', 'query_hyperthyroid', 'lithium',\n",
        "       'goitre', 'tumor', 'hypopituitary', 'psych', 'TSH','TSH_nan', 'T3',  'T3_nan','TT4','TT4_nan',\n",
        "        'T4U','T4U_nan','FTI', 'FTI_nan', 'referral_source','Class']]"
      ]
    },
    {
      "cell_type": "code",
      "execution_count": 22,
      "metadata": {
        "colab": {
          "base_uri": "https://localhost:8080/"
        },
        "id": "cW_LKgrHKo5R",
        "outputId": "ffc77f5e-1357-4cad-e7d1-afe9c8f03b32"
      },
      "outputs": [
        {
          "output_type": "execute_result",
          "data": {
            "text/plain": [
              "Index(['sex', 'on_thyroxine', 'query_on_thyroxine',\n",
              "       'on_antithyroid_medication', 'sick', 'pregnant', 'thyroid_surgery',\n",
              "       'I131_treatment', 'query_hypothyroid', 'query_hyperthyroid', 'lithium',\n",
              "       'goitre', 'tumor', 'hypopituitary', 'psych', 'referral_source',\n",
              "       'Class'],\n",
              "      dtype='object')"
            ]
          },
          "metadata": {},
          "execution_count": 22
        }
      ],
      "source": [
        "categ_index"
      ]
    },
    {
      "cell_type": "code",
      "execution_count": 23,
      "metadata": {
        "colab": {
          "base_uri": "https://localhost:8080/"
        },
        "id": "PVocOekZKo5R",
        "outputId": "a59bf093-183a-43c6-d44a-15c75cdb45d1"
      },
      "outputs": [
        {
          "output_type": "stream",
          "name": "stdout",
          "text": [
            "sex \n",
            " F    2630\n",
            "M    1142\n",
            "Name: sex, dtype: int64\n",
            "on_thyroxine \n",
            " f    3308\n",
            "t     464\n",
            "Name: on_thyroxine, dtype: int64\n",
            "query_on_thyroxine \n",
            " f    3722\n",
            "t      50\n",
            "Name: query_on_thyroxine, dtype: int64\n",
            "on_antithyroid_medication \n",
            " f    3729\n",
            "t      43\n",
            "Name: on_antithyroid_medication, dtype: int64\n",
            "sick \n",
            " f    3625\n",
            "t     147\n",
            "Name: sick, dtype: int64\n",
            "pregnant \n",
            " f    3719\n",
            "t      53\n",
            "Name: pregnant, dtype: int64\n",
            "thyroid_surgery \n",
            " f    3719\n",
            "t      53\n",
            "Name: thyroid_surgery, dtype: int64\n",
            "I131_treatment \n",
            " f    3713\n",
            "t      59\n",
            "Name: I131_treatment, dtype: int64\n",
            "query_hypothyroid \n",
            " f    3538\n",
            "t     234\n",
            "Name: query_hypothyroid, dtype: int64\n",
            "query_hyperthyroid \n",
            " f    3535\n",
            "t     237\n",
            "Name: query_hyperthyroid, dtype: int64\n",
            "lithium \n",
            " f    3754\n",
            "t      18\n",
            "Name: lithium, dtype: int64\n",
            "goitre \n",
            " f    3738\n",
            "t      34\n",
            "Name: goitre, dtype: int64\n",
            "tumor \n",
            " f    3676\n",
            "t      96\n",
            "Name: tumor, dtype: int64\n",
            "hypopituitary \n",
            " f    3771\n",
            "t       1\n",
            "Name: hypopituitary, dtype: int64\n",
            "psych \n",
            " f    3588\n",
            "t     184\n",
            "Name: psych, dtype: int64\n",
            "referral_source \n",
            " other    2201\n",
            "SVI      1034\n",
            "SVHC      386\n",
            "STMW      112\n",
            "SVHD       39\n",
            "Name: referral_source, dtype: int64\n",
            "Class \n",
            " negative                   3481\n",
            "compensated_hypothyroid     194\n",
            "primary_hypothyroid          95\n",
            "secondary_hypothyroid         2\n",
            "Name: Class, dtype: int64\n"
          ]
        }
      ],
      "source": [
        "for i in categ_index:\n",
        "    print(i,\"\\n\",data[i].value_counts())"
      ]
    },
    {
      "cell_type": "code",
      "execution_count": 24,
      "metadata": {
        "id": "jZ5YYGKnKo5R"
      },
      "outputs": [],
      "source": [
        "# ENCODING CATEGORIAL COLUMNS\n",
        "\n",
        "# Most columns have only two categories - True and False\n",
        "# So, we use mapping instead of one hot encoding every single column\n",
        "\n",
        "# We'll do Frequency encoding of \"Referral Source\"\n",
        "\n",
        "t_f_map={'t':0,'f':1}  #true false mapper\n",
        "sex_map={'M':1,'F':0}\n",
        "ref_map=data.referral_source.value_counts().to_dict()\n",
        "\n",
        "for col in categ_index:\n",
        "    if col ==\"Class\":\n",
        "        continue\n",
        "    elif col ==\"sex\":\n",
        "        data[col]=data[col].map(sex_map)\n",
        "    elif col==\"referral_source\":\n",
        "        data[col]=data[col].map(ref_map)\n",
        "    else:\n",
        "        data[col]=data[col].map(t_f_map)\n"
      ]
    },
    {
      "cell_type": "code",
      "execution_count": 25,
      "metadata": {
        "colab": {
          "base_uri": "https://localhost:8080/"
        },
        "id": "UqoBbEsUKo5S",
        "outputId": "750cca62-921d-4a82-821a-fdc9d82eb40f"
      },
      "outputs": [
        {
          "output_type": "execute_result",
          "data": {
            "text/plain": [
              "negative                   3481\n",
              "compensated_hypothyroid     194\n",
              "primary_hypothyroid          95\n",
              "secondary_hypothyroid         2\n",
              "Name: Class, dtype: int64"
            ]
          },
          "metadata": {},
          "execution_count": 25
        }
      ],
      "source": [
        "data.Class.value_counts()"
      ]
    },
    {
      "cell_type": "code",
      "execution_count": 26,
      "metadata": {
        "id": "VrvoycDRKo5S"
      },
      "outputs": [],
      "source": [
        "# LABEL ENCODING THE TARGET COLUMN\n",
        "# target col- Class has 4 distint categories\n",
        "\n",
        "from sklearn.preprocessing import LabelEncoder\n",
        "label_encoder=LabelEncoder()\n",
        "data.Class=label_encoder.fit_transform(data.Class)\n"
      ]
    },
    {
      "cell_type": "code",
      "execution_count": 27,
      "metadata": {
        "colab": {
          "base_uri": "https://localhost:8080/"
        },
        "id": "v4zZ0XVgKo5T",
        "outputId": "5758b2fe-e1ed-47db-df41-fb1a3e16ff75"
      },
      "outputs": [
        {
          "output_type": "execute_result",
          "data": {
            "text/plain": [
              "array(['compensated_hypothyroid', 'negative', 'primary_hypothyroid',\n",
              "       'secondary_hypothyroid'], dtype=object)"
            ]
          },
          "metadata": {},
          "execution_count": 27
        }
      ],
      "source": [
        "label_encoder.classes_\n",
        "\n",
        "# encoded labels to --- negative : 1 ; compensated_hypothyroid : 0;\n",
        "# primary_hypothyroid : 2 ; secondary_hypothyroid : 3"
      ]
    },
    {
      "cell_type": "code",
      "execution_count": 28,
      "metadata": {
        "colab": {
          "base_uri": "https://localhost:8080/",
          "height": 621
        },
        "id": "k1-mvkBHKo5T",
        "outputId": "dd3eac3f-8b57-43bb-f66c-9baed953af8b"
      },
      "outputs": [
        {
          "output_type": "display_data",
          "data": {
            "text/plain": [
              "<Figure size 720x720 with 6 Axes>"
            ],
            "image/png": "[encoded data removed]"
          },
          "metadata": {
            "needs_background": "light"
          }
        }
      ],
      "source": [
        "# visualizing the distributtion of numerical features\n",
        "\n",
        "from scipy import stats\n",
        "\n",
        "fig,ax=plt.subplots(3,2,figsize=(10,10))\n",
        "plt.subplots_adjust( \n",
        "                    wspace=0.7, \n",
        "                    hspace=1.1)\n",
        "\n",
        "a,b=0,0\n",
        "for col in num_index:\n",
        "    stats.probplot(data[col],plot=ax[a,b])\n",
        "    ax[a,b].set_title(col)\n",
        "    b+=1\n",
        "    if b==2:\n",
        "        b=0\n",
        "        a+=1\n",
        "    \n",
        "    # age column is normally distributed\n",
        "    # All other columns are left skewed , and hence will have utliers in the right tail of the distribution\n"
      ]
    },
    {
      "cell_type": "code",
      "execution_count": 29,
      "metadata": {
        "colab": {
          "base_uri": "https://localhost:8080/",
          "height": 834
        },
        "id": "w1P1_SStKo5T",
        "outputId": "5f601c40-face-4969-9ab5-5423074207c4"
      },
      "outputs": [
        {
          "output_type": "stream",
          "name": "stderr",
          "text": [
            "/usr/local/lib/python3.7/dist-packages/seaborn/distributions.py:2619: FutureWarning: `distplot` is a deprecated function and will be removed in a future version. Please adapt your code to use either `displot` (a figure-level function with similar flexibility) or `histplot` (an axes-level function for histograms).\n",
            "  warnings.warn(msg, FutureWarning)\n",
            "/usr/local/lib/python3.7/dist-packages/seaborn/distributions.py:2619: FutureWarning: `distplot` is a deprecated function and will be removed in a future version. Please adapt your code to use either `displot` (a figure-level function with similar flexibility) or `histplot` (an axes-level function for histograms).\n",
            "  warnings.warn(msg, FutureWarning)\n",
            "/usr/local/lib/python3.7/dist-packages/seaborn/distributions.py:2619: FutureWarning: `distplot` is a deprecated function and will be removed in a future version. Please adapt your code to use either `displot` (a figure-level function with similar flexibility) or `histplot` (an axes-level function for histograms).\n",
            "  warnings.warn(msg, FutureWarning)\n",
            "/usr/local/lib/python3.7/dist-packages/seaborn/distributions.py:2619: FutureWarning: `distplot` is a deprecated function and will be removed in a future version. Please adapt your code to use either `displot` (a figure-level function with similar flexibility) or `histplot` (an axes-level function for histograms).\n",
            "  warnings.warn(msg, FutureWarning)\n",
            "/usr/local/lib/python3.7/dist-packages/seaborn/distributions.py:2619: FutureWarning: `distplot` is a deprecated function and will be removed in a future version. Please adapt your code to use either `displot` (a figure-level function with similar flexibility) or `histplot` (an axes-level function for histograms).\n",
            "  warnings.warn(msg, FutureWarning)\n",
            "/usr/local/lib/python3.7/dist-packages/seaborn/distributions.py:2619: FutureWarning: `distplot` is a deprecated function and will be removed in a future version. Please adapt your code to use either `displot` (a figure-level function with similar flexibility) or `histplot` (an axes-level function for histograms).\n",
            "  warnings.warn(msg, FutureWarning)\n"
          ]
        },
        {
          "output_type": "display_data",
          "data": {
            "text/plain": [
              "<Figure size 720x720 with 6 Axes>"
            ],
            "image/png": "[encoded data removed]"
          },
          "metadata": {
            "needs_background": "light"
          }
        }
      ],
      "source": [
        "fig,ax=plt.subplots(3,2,figsize=(10,10))\n",
        "\n",
        "a,b=0,0\n",
        "for col in num_index:\n",
        "    sns.distplot(data[col],ax=ax[a,b])\n",
        "    b+=1\n",
        "    if b==2:\n",
        "        b=0\n",
        "        a+=1"
      ]
    },
    {
      "cell_type": "code",
      "execution_count": 30,
      "metadata": {
        "colab": {
          "base_uri": "https://localhost:8080/",
          "height": 300
        },
        "id": "Hagh69vHKo5U",
        "outputId": "492607c4-521e-4cc2-8d7e-5bdac7104de8"
      },
      "outputs": [
        {
          "output_type": "execute_result",
          "data": {
            "text/plain": [
              "               age          TSH           T3          TT4          T4U  \\\n",
              "count  3772.000000  3772.000000  3772.000000  3772.000000  3772.000000   \n",
              "mean     51.735879     5.086766     2.013500   108.319345     0.995000   \n",
              "std      20.082295    23.290853     0.738262    34.496511     0.185156   \n",
              "min       1.000000     0.005000     0.050000     2.000000     0.250000   \n",
              "25%      36.000000     0.600000     1.700000    89.000000     0.890000   \n",
              "50%      54.000000     1.600000     2.013500   106.000000     0.995000   \n",
              "75%      67.000000     3.800000     2.200000   123.000000     1.070000   \n",
              "max     455.000000   530.000000    10.600000   430.000000     2.320000   \n",
              "\n",
              "               FTI  \n",
              "count  3772.000000  \n",
              "mean    110.469649  \n",
              "std      31.355087  \n",
              "min       2.000000  \n",
              "25%      94.000000  \n",
              "50%     110.000000  \n",
              "75%     121.250000  \n",
              "max     395.000000  "
            ],
            "text/html": [
              "\n",
              "  <div id=\"df-7cd1ae95-1fa2-4d50-aca0-711c29500bc8\">\n",
              "    <div class=\"colab-df-container\">\n",
              "      <div>\n",
              "<style scoped>\n",
              "    .dataframe tbody tr th:only-of-type {\n",
              "        vertical-align: middle;\n",
              "    }\n",
              "\n",
              "    .dataframe tbody tr th {\n",
              "        vertical-align: top;\n",
              "    }\n",
              "\n",
              "    .dataframe thead th {\n",
              "        text-align: right;\n",
              "    }\n",
              "</style>\n",
              "<table border=\"1\" class=\"dataframe\">\n",
              "  <thead>\n",
              "    <tr style=\"text-align: right;\">\n",
              "      <th></th>\n",
              "      <th>age</th>\n",
              "      <th>TSH</th>\n",
              "      <th>T3</th>\n",
              "      <th>TT4</th>\n",
              "      <th>T4U</th>\n",
              "      <th>FTI</th>\n",
              "    </tr>\n",
              "  </thead>\n",
              "  <tbody>\n",
              "    <tr>\n",
              "      <th>count</th>\n",
              "      <td>3772.000000</td>\n",
              "      <td>3772.000000</td>\n",
              "      <td>3772.000000</td>\n",
              "      <td>3772.000000</td>\n",
              "      <td>3772.000000</td>\n",
              "      <td>3772.000000</td>\n",
              "    </tr>\n",
              "    <tr>\n",
              "      <th>mean</th>\n",
              "      <td>51.735879</td>\n",
              "      <td>5.086766</td>\n",
              "      <td>2.013500</td>\n",
              "      <td>108.319345</td>\n",
              "      <td>0.995000</td>\n",
              "      <td>110.469649</td>\n",
              "    </tr>\n",
              "    <tr>\n",
              "      <th>std</th>\n",
              "      <td>20.082295</td>\n",
              "      <td>23.290853</td>\n",
              "      <td>0.738262</td>\n",
              "      <td>34.496511</td>\n",
              "      <td>0.185156</td>\n",
              "      <td>31.355087</td>\n",
              "    </tr>\n",
              "    <tr>\n",
              "      <th>min</th>\n",
              "      <td>1.000000</td>\n",
              "      <td>0.005000</td>\n",
              "      <td>0.050000</td>\n",
              "      <td>2.000000</td>\n",
              "      <td>0.250000</td>\n",
              "      <td>2.000000</td>\n",
              "    </tr>\n",
              "    <tr>\n",
              "      <th>25%</th>\n",
              "      <td>36.000000</td>\n",
              "      <td>0.600000</td>\n",
              "      <td>1.700000</td>\n",
              "      <td>89.000000</td>\n",
              "      <td>0.890000</td>\n",
              "      <td>94.000000</td>\n",
              "    </tr>\n",
              "    <tr>\n",
              "      <th>50%</th>\n",
              "      <td>54.000000</td>\n",
              "      <td>1.600000</td>\n",
              "      <td>2.013500</td>\n",
              "      <td>106.000000</td>\n",
              "      <td>0.995000</td>\n",
              "      <td>110.000000</td>\n",
              "    </tr>\n",
              "    <tr>\n",
              "      <th>75%</th>\n",
              "      <td>67.000000</td>\n",
              "      <td>3.800000</td>\n",
              "      <td>2.200000</td>\n",
              "      <td>123.000000</td>\n",
              "      <td>1.070000</td>\n",
              "      <td>121.250000</td>\n",
              "    </tr>\n",
              "    <tr>\n",
              "      <th>max</th>\n",
              "      <td>455.000000</td>\n",
              "      <td>530.000000</td>\n",
              "      <td>10.600000</td>\n",
              "      <td>430.000000</td>\n",
              "      <td>2.320000</td>\n",
              "      <td>395.000000</td>\n",
              "    </tr>\n",
              "  </tbody>\n",
              "</table>\n",
              "</div>\n",
              "      <button class=\"colab-df-convert\" onclick=\"convertToInteractive('df-7cd1ae95-1fa2-4d50-aca0-711c29500bc8')\"\n",
              "              title=\"Convert this dataframe to an interactive table.\"\n",
              "              style=\"display:none;\">\n",
              "        \n",
              "  <svg xmlns=\"http://www.w3.org/2000/svg\" height=\"24px\"viewBox=\"0 0 24 24\"\n",
              "       width=\"24px\">\n",
              "    <path d=\"M0 0h24v24H0V0z\" fill=\"none\"/>\n",
              "    <path d=\"M18.56 5.44l.94 2.06.94-2.06 2.06-.94-2.06-.94-.94-2.06-.94 2.06-2.06.94zm-11 1L8.5 8.5l.94-2.06 2.06-.94-2.06-.94L8.5 2.5l-.94 2.06-2.06.94zm10 10l.94 2.06.94-2.06 2.06-.94-2.06-.94-.94-2.06-.94 2.06-2.06.94z\"/><path d=\"M17.41 7.96l-1.37-1.37c-.4-.4-.92-.59-1.43-.59-.52 0-1.04.2-1.43.59L10.3 9.45l-7.72 7.72c-.78.78-.78 2.05 0 2.83L4 21.41c.39.39.9.59 1.41.59.51 0 1.02-.2 1.41-.59l7.78-7.78 2.81-2.81c.8-.78.8-2.07 0-2.86zM5.41 20L4 18.59l7.72-7.72 1.47 1.35L5.41 20z\"/>\n",
              "  </svg>\n",
              "      </button>\n",
              "      \n",
              "  <style>\n",
              "    .colab-df-container {\n",
              "      display:flex;\n",
              "      flex-wrap:wrap;\n",
              "      gap: 12px;\n",
              "    }\n",
              "\n",
              "    .colab-df-convert {\n",
              "      background-color: #E8F0FE;\n",
              "      border: none;\n",
              "      border-radius: 50%;\n",
              "      cursor: pointer;\n",
              "      display: none;\n",
              "      fill: #1967D2;\n",
              "      height: 32px;\n",
              "      padding: 0 0 0 0;\n",
              "      width: 32px;\n",
              "    }\n",
              "\n",
              "    .colab-df-convert:hover {\n",
              "      background-color: #E2EBFA;\n",
              "      box-shadow: 0px 1px 2px rgba(60, 64, 67, 0.3), 0px 1px 3px 1px rgba(60, 64, 67, 0.15);\n",
              "      fill: #174EA6;\n",
              "    }\n",
              "\n",
              "    [theme=dark] .colab-df-convert {\n",
              "      background-color: #3B4455;\n",
              "      fill: #D2E3FC;\n",
              "    }\n",
              "\n",
              "    [theme=dark] .colab-df-convert:hover {\n",
              "      background-color: #434B5C;\n",
              "      box-shadow: 0px 1px 3px 1px rgba(0, 0, 0, 0.15);\n",
              "      filter: drop-shadow(0px 1px 2px rgba(0, 0, 0, 0.3));\n",
              "      fill: #FFFFFF;\n",
              "    }\n",
              "  </style>\n",
              "\n",
              "      <script>\n",
              "        const buttonEl =\n",
              "          document.querySelector('#df-7cd1ae95-1fa2-4d50-aca0-711c29500bc8 button.colab-df-convert');\n",
              "        buttonEl.style.display =\n",
              "          google.colab.kernel.accessAllowed ? 'block' : 'none';\n",
              "\n",
              "        async function convertToInteractive(key) {\n",
              "          const element = document.querySelector('#df-7cd1ae95-1fa2-4d50-aca0-711c29500bc8');\n",
              "          const dataTable =\n",
              "            await google.colab.kernel.invokeFunction('convertToInteractive',\n",
              "                                                     [key], {});\n",
              "          if (!dataTable) return;\n",
              "\n",
              "          const docLinkHtml = 'Like what you see? Visit the ' +\n",
              "            '<a target=\"_blank\" href=https://colab.research.google.com/notebooks/data_table.ipynb>data table notebook</a>'\n",
              "            + ' to learn more about interactive tables.';\n",
              "          element.innerHTML = '';\n",
              "          dataTable['output_type'] = 'display_data';\n",
              "          await google.colab.output.renderOutput(dataTable, element);\n",
              "          const docLink = document.createElement('div');\n",
              "          docLink.innerHTML = docLinkHtml;\n",
              "          element.appendChild(docLink);\n",
              "        }\n",
              "      </script>\n",
              "    </div>\n",
              "  </div>\n",
              "  "
            ]
          },
          "metadata": {},
          "execution_count": 30
        }
      ],
      "source": [
        "data[num_index].describe()"
      ]
    },
    {
      "cell_type": "code",
      "execution_count": 31,
      "metadata": {
        "colab": {
          "base_uri": "https://localhost:8080/",
          "height": 834
        },
        "id": "pQQ8NaI7Ko5U",
        "outputId": "b06c5cb1-a6b8-4ece-9841-807fb17f308e"
      },
      "outputs": [
        {
          "output_type": "stream",
          "name": "stderr",
          "text": [
            "/usr/local/lib/python3.7/dist-packages/seaborn/_decorators.py:43: FutureWarning: Pass the following variable as a keyword arg: x. From version 0.12, the only valid positional argument will be `data`, and passing other arguments without an explicit keyword will result in an error or misinterpretation.\n",
            "  FutureWarning\n",
            "/usr/local/lib/python3.7/dist-packages/seaborn/_decorators.py:43: FutureWarning: Pass the following variable as a keyword arg: x. From version 0.12, the only valid positional argument will be `data`, and passing other arguments without an explicit keyword will result in an error or misinterpretation.\n",
            "  FutureWarning\n",
            "/usr/local/lib/python3.7/dist-packages/seaborn/_decorators.py:43: FutureWarning: Pass the following variable as a keyword arg: x. From version 0.12, the only valid positional argument will be `data`, and passing other arguments without an explicit keyword will result in an error or misinterpretation.\n",
            "  FutureWarning\n",
            "/usr/local/lib/python3.7/dist-packages/seaborn/_decorators.py:43: FutureWarning: Pass the following variable as a keyword arg: x. From version 0.12, the only valid positional argument will be `data`, and passing other arguments without an explicit keyword will result in an error or misinterpretation.\n",
            "  FutureWarning\n",
            "/usr/local/lib/python3.7/dist-packages/seaborn/_decorators.py:43: FutureWarning: Pass the following variable as a keyword arg: x. From version 0.12, the only valid positional argument will be `data`, and passing other arguments without an explicit keyword will result in an error or misinterpretation.\n",
            "  FutureWarning\n",
            "/usr/local/lib/python3.7/dist-packages/seaborn/_decorators.py:43: FutureWarning: Pass the following variable as a keyword arg: x. From version 0.12, the only valid positional argument will be `data`, and passing other arguments without an explicit keyword will result in an error or misinterpretation.\n",
            "  FutureWarning\n"
          ]
        },
        {
          "output_type": "display_data",
          "data": {
            "text/plain": [
              "<Figure size 720x720 with 6 Axes>"
            ],
            "image/png": "[encoded data removed]"
          },
          "metadata": {
            "needs_background": "light"
          }
        }
      ],
      "source": [
        "# Checking for outliers in numerical features\n",
        "\n",
        "fig,ax=plt.subplots(3,2,figsize=(10,10))\n",
        "\n",
        "a,b=0,0\n",
        "for col in num_index:\n",
        "    sns.boxplot(data[col],ax=ax[a,b],whis=3)\n",
        "    b+=1\n",
        "    if b==2:\n",
        "        b=0\n",
        "        a+=1"
      ]
    },
    {
      "cell_type": "code",
      "execution_count": 32,
      "metadata": {
        "colab": {
          "base_uri": "https://localhost:8080/"
        },
        "id": "ke6gfQgVKo5U",
        "outputId": "48aea0ae-803f-4606-f821-d35358ffd999"
      },
      "outputs": [
        {
          "output_type": "stream",
          "name": "stderr",
          "text": [
            "/usr/local/lib/python3.7/dist-packages/pandas/core/indexing.py:1732: SettingWithCopyWarning: \n",
            "A value is trying to be set on a copy of a slice from a DataFrame\n",
            "\n",
            "See the caveats in the documentation: https://pandas.pydata.org/pandas-docs/stable/user_guide/indexing.html#returning-a-view-versus-a-copy\n",
            "  self._setitem_single_block(indexer, value, name)\n"
          ]
        },
        {
          "output_type": "stream",
          "name": "stdout",
          "text": [
            "age\n",
            "No. of Outliers : 1\n",
            "TSH\n",
            "No. of Outliers : 167\n",
            "T3\n",
            "No. of Outliers : 105\n",
            "TT4\n",
            "No. of Outliers : 32\n",
            "T4U\n",
            "No. of Outliers : 60\n",
            "FTI\n",
            "No. of Outliers : 76\n"
          ]
        }
      ],
      "source": [
        "# Finding the no. of outliers in each col and impute them with the mean value\n",
        "\n",
        "for col in num_index:\n",
        "    q1=data[col].quantile(0.25)\n",
        "    q3=data[col].quantile(0.75)\n",
        "    iqr=q3-q1\n",
        "    a,b=0,0\n",
        "    for idx,i in enumerate(data[col]):\n",
        "        if (i<q1-3*iqr) or (i>q3+3*iqr):\n",
        "            b+=1\n",
        "            data[col].loc[idx]=data[col].mean()\n",
        "    print(f\"{col}\")\n",
        "    print(f\"No. of Outliers : {b}\")"
      ]
    },
    {
      "cell_type": "code",
      "execution_count": 33,
      "metadata": {
        "colab": {
          "base_uri": "https://localhost:8080/",
          "height": 834
        },
        "id": "I3U7HefOKo5V",
        "outputId": "f2ac0c1b-5935-4cb8-8fc2-8c61b2c48e49"
      },
      "outputs": [
        {
          "output_type": "stream",
          "name": "stderr",
          "text": [
            "/usr/local/lib/python3.7/dist-packages/seaborn/_decorators.py:43: FutureWarning: Pass the following variable as a keyword arg: x. From version 0.12, the only valid positional argument will be `data`, and passing other arguments without an explicit keyword will result in an error or misinterpretation.\n",
            "  FutureWarning\n",
            "/usr/local/lib/python3.7/dist-packages/seaborn/_decorators.py:43: FutureWarning: Pass the following variable as a keyword arg: x. From version 0.12, the only valid positional argument will be `data`, and passing other arguments without an explicit keyword will result in an error or misinterpretation.\n",
            "  FutureWarning\n",
            "/usr/local/lib/python3.7/dist-packages/seaborn/_decorators.py:43: FutureWarning: Pass the following variable as a keyword arg: x. From version 0.12, the only valid positional argument will be `data`, and passing other arguments without an explicit keyword will result in an error or misinterpretation.\n",
            "  FutureWarning\n",
            "/usr/local/lib/python3.7/dist-packages/seaborn/_decorators.py:43: FutureWarning: Pass the following variable as a keyword arg: x. From version 0.12, the only valid positional argument will be `data`, and passing other arguments without an explicit keyword will result in an error or misinterpretation.\n",
            "  FutureWarning\n",
            "/usr/local/lib/python3.7/dist-packages/seaborn/_decorators.py:43: FutureWarning: Pass the following variable as a keyword arg: x. From version 0.12, the only valid positional argument will be `data`, and passing other arguments without an explicit keyword will result in an error or misinterpretation.\n",
            "  FutureWarning\n",
            "/usr/local/lib/python3.7/dist-packages/seaborn/_decorators.py:43: FutureWarning: Pass the following variable as a keyword arg: x. From version 0.12, the only valid positional argument will be `data`, and passing other arguments without an explicit keyword will result in an error or misinterpretation.\n",
            "  FutureWarning\n"
          ]
        },
        {
          "output_type": "display_data",
          "data": {
            "text/plain": [
              "<Figure size 720x720 with 6 Axes>"
            ],
            "image/png": "[encoded data removed]"
          },
          "metadata": {
            "needs_background": "light"
          }
        }
      ],
      "source": [
        "# Checking for outliers after they have been imputed with mean values\n",
        "\n",
        "fig,ax=plt.subplots(3,2,figsize=(10,10))\n",
        "\n",
        "a,b=0,0\n",
        "for col in num_index:\n",
        "    sns.boxplot(data[col],ax=ax[a,b],whis=3)\n",
        "    b+=1\n",
        "    if b==2:\n",
        "        b=0\n",
        "        a+=1"
      ]
    },
    {
      "cell_type": "code",
      "execution_count": 34,
      "metadata": {
        "colab": {
          "base_uri": "https://localhost:8080/",
          "height": 421
        },
        "id": "m5f2UOjMKo5V",
        "outputId": "9c97d183-aa16-4a96-aec7-6837d24b9318"
      },
      "outputs": [
        {
          "output_type": "stream",
          "name": "stdout",
          "text": [
            "1    3481\n",
            "0     194\n",
            "2      95\n",
            "3       2\n",
            "Name: Class, dtype: int64\n"
          ]
        },
        {
          "output_type": "stream",
          "name": "stderr",
          "text": [
            "/usr/local/lib/python3.7/dist-packages/seaborn/_decorators.py:43: FutureWarning: Pass the following variable as a keyword arg: x. From version 0.12, the only valid positional argument will be `data`, and passing other arguments without an explicit keyword will result in an error or misinterpretation.\n",
            "  FutureWarning\n"
          ]
        },
        {
          "output_type": "display_data",
          "data": {
            "text/plain": [
              "<Figure size 432x288 with 1 Axes>"
            ],
            "image/png": "[encoded data removed]"
          },
          "metadata": {
            "needs_background": "light"
          }
        }
      ],
      "source": [
        "# we can clearly see that some of the classes are highly under-represented\n",
        "# The dataset is highly imbalanced\n",
        "\n",
        "sns.countplot(data.Class)\n",
        "print(data.Class.value_counts())"
      ]
    },
    {
      "cell_type": "code",
      "execution_count": 35,
      "metadata": {
        "id": "zX_JboiaKo5V"
      },
      "outputs": [],
      "source": [
        "# Oversampling using SMOTE\n",
        "\n",
        "X=data.drop(['Class'],axis=1)\n",
        "y=data.Class\n",
        "\n",
        "from imblearn.over_sampling import ADASYN,SMOTE,RandomOverSampler,KMeansSMOTE\n",
        "\n",
        "smote=SMOTE(k_neighbors=1)\n",
        "X,y=smote.fit_resample(X,y)"
      ]
    },
    {
      "cell_type": "code",
      "execution_count": 36,
      "metadata": {
        "colab": {
          "base_uri": "https://localhost:8080/",
          "height": 421
        },
        "id": "0P7uW6azKo5W",
        "outputId": "76644b89-839a-49bf-83f8-6ec08400367f"
      },
      "outputs": [
        {
          "output_type": "stream",
          "name": "stdout",
          "text": [
            "1    3481\n",
            "0    3481\n",
            "2    3481\n",
            "3    3481\n",
            "Name: Class, dtype: int64\n"
          ]
        },
        {
          "output_type": "stream",
          "name": "stderr",
          "text": [
            "/usr/local/lib/python3.7/dist-packages/seaborn/_decorators.py:43: FutureWarning: Pass the following variable as a keyword arg: x. From version 0.12, the only valid positional argument will be `data`, and passing other arguments without an explicit keyword will result in an error or misinterpretation.\n",
            "  FutureWarning\n"
          ]
        },
        {
          "output_type": "display_data",
          "data": {
            "text/plain": [
              "<Figure size 432x288 with 1 Axes>"
            ],
            "image/png": "[encoded data removed]"
          },
          "metadata": {
            "needs_background": "light"
          }
        }
      ],
      "source": [
        "sns.countplot(y)\n",
        "print(y.value_counts())"
      ]
    },
    {
      "cell_type": "code",
      "execution_count": 37,
      "metadata": {
        "colab": {
          "base_uri": "https://localhost:8080/",
          "height": 70
        },
        "id": "SIMVIbhPKo5W",
        "outputId": "4d761ab2-1283-46bf-9e1f-105270da4bd1"
      },
      "outputs": [
        {
          "output_type": "execute_result",
          "data": {
            "text/plain": [
              "'from sklearn.feature_selection import VarianceThreshold\\n\\nvar_thresh=VarianceThreshold(threshold=0.01)\\nvar_thresh.fit(X)\\n\\nprint(f\"{len(X.columns)-len(X.columns[var_thresh.get_support()])} columns have less than 0.01 variance , so we drop them\")\\n\\n[column for column in X.columns if column not in X.columns[var_thresh.get_support()]]'"
            ],
            "application/vnd.google.colaboratory.intrinsic+json": {
              "type": "string"
            }
          },
          "metadata": {},
          "execution_count": 37
        }
      ],
      "source": [
        "# Checking if any columns don't have much variance and thereby \n",
        "# do not have much predictive power\n",
        "\n",
        "\"\"\"from sklearn.feature_selection import VarianceThreshold\n",
        "\n",
        "var_thresh=VarianceThreshold(threshold=0.01)\n",
        "var_thresh.fit(X)\n",
        "\n",
        "print(f\"{len(X.columns)-len(X.columns[var_thresh.get_support()])} columns have less than 0.01 variance , so we drop them\")\n",
        "\n",
        "[column for column in X.columns if column not in X.columns[var_thresh.get_support()]]\"\"\"\n",
        "\n",
        "# we didn't remove using variance threshold as it might remove some imortant info regarding the dataset\n",
        "# requires domain knowledge"
      ]
    },
    {
      "cell_type": "code",
      "execution_count": 38,
      "metadata": {
        "colab": {
          "base_uri": "https://localhost:8080/",
          "height": 735
        },
        "id": "aZV5XRMMKo5X",
        "outputId": "9ada30c3-45ec-4a0b-956e-6c0da2e42bd5"
      },
      "outputs": [
        {
          "output_type": "execute_result",
          "data": {
            "text/plain": [
              "<matplotlib.axes._subplots.AxesSubplot at 0x7f45749cd2d0>"
            ]
          },
          "metadata": {},
          "execution_count": 38
        },
        {
          "output_type": "display_data",
          "data": {
            "text/plain": [
              "<Figure size 720x720 with 2 Axes>"
            ],
            "image/png": "[encoded data removed]"
          },
          "metadata": {
            "needs_background": "light"
          }
        }
      ],
      "source": [
        "# Visualizing the correlation matrix\n",
        "\n",
        "fig=plt.figure(figsize=(10,10))\n",
        "sns.heatmap(X.corr())"
      ]
    },
    {
      "cell_type": "code",
      "execution_count": 39,
      "metadata": {
        "id": "CrgPUHOfKo5X"
      },
      "outputs": [],
      "source": [
        "corr_matrix=X.corr()"
      ]
    },
    {
      "cell_type": "code",
      "execution_count": 40,
      "metadata": {
        "colab": {
          "base_uri": "https://localhost:8080/"
        },
        "id": "aq74kp7RKo5X",
        "outputId": "3eb991e3-d3fd-44d9-ed68-332d188b6038"
      },
      "outputs": [
        {
          "output_type": "stream",
          "name": "stdout",
          "text": [
            "\n",
            "T4U_nan---FTI_nan\n",
            "0.9984354564929898\n",
            "\n",
            "FTI_nan---T4U_nan\n",
            "0.9984354564929898\n"
          ]
        }
      ],
      "source": [
        "# Finding highly correlated columns and removing them\n",
        "\n",
        "highly_correlated=set()\n",
        "\n",
        "for i in X.columns:\n",
        "    for j in X.columns:\n",
        "        if j==i:\n",
        "            continue\n",
        "        else:\n",
        "            if abs(corr_matrix.loc[i,j])>0.85:\n",
        "                print(f\"\\n{i}---{j}\")\n",
        "                print(corr_matrix.loc[i,j])\n",
        "                if (i not in highly_correlated) and (j not in highly_correlated):\n",
        "                     highly_correlated.add(i)\n",
        "\n",
        "\n"
      ]
    },
    {
      "cell_type": "code",
      "execution_count": 41,
      "metadata": {
        "colab": {
          "base_uri": "https://localhost:8080/"
        },
        "id": "xPCHDeoKKo5Y",
        "outputId": "99bf43b4-7bb7-4199-f584-b5f715797685"
      },
      "outputs": [
        {
          "output_type": "execute_result",
          "data": {
            "text/plain": [
              "['T4U_nan']"
            ]
          },
          "metadata": {},
          "execution_count": 41
        }
      ],
      "source": [
        "list(highly_correlated)"
      ]
    },
    {
      "cell_type": "code",
      "execution_count": 42,
      "metadata": {
        "id": "Lm9-Gr7fKo5Y"
      },
      "outputs": [],
      "source": [
        "X=X.drop(['T4U_nan'],axis=1)"
      ]
    },
    {
      "cell_type": "code",
      "execution_count": 43,
      "metadata": {
        "id": "2vE79olyKo5Y"
      },
      "outputs": [],
      "source": [
        "data=pd.concat([X,y],axis=1)"
      ]
    },
    {
      "cell_type": "code",
      "execution_count": 44,
      "metadata": {
        "colab": {
          "base_uri": "https://localhost:8080/",
          "height": 307
        },
        "id": "H3n13fP7Ko5Y",
        "outputId": "3f6cce79-a9cd-4f57-9e45-5c2a6fb5afae"
      },
      "outputs": [
        {
          "output_type": "execute_result",
          "data": {
            "text/plain": [
              "<matplotlib.axes._subplots.AxesSubplot at 0x7f45747fefd0>"
            ]
          },
          "metadata": {},
          "execution_count": 44
        },
        {
          "output_type": "display_data",
          "data": {
            "text/plain": [
              "<Figure size 432x288 with 1 Axes>"
            ],
            "image/png": "[encoded data removed]"
          },
          "metadata": {
            "needs_background": "light"
          }
        }
      ],
      "source": [
        "# Elbow curve ,to determine optimal no. of clusters\n",
        "\n",
        "from sklearn.cluster import dbscan,KMeans\n",
        "\n",
        "inertia=[]\n",
        "for k in range(2,10):\n",
        "    cluster=KMeans(n_clusters=k,n_init=10)\n",
        "    cluster.fit(data)\n",
        "    inertia.append(cluster.inertia_)\n",
        "\n",
        "elbow=pd.DataFrame(data={'Cluster':range(2,10),'Inertia':inertia})\n",
        "sns.lineplot(x=elbow.Cluster,y=elbow.Inertia)"
      ]
    },
    {
      "cell_type": "code",
      "execution_count": 45,
      "metadata": {
        "colab": {
          "base_uri": "https://localhost:8080/",
          "height": 270
        },
        "id": "CkUdGN3MKo5Z",
        "outputId": "aecc66e5-0b0c-4456-d520-ccc55e62972e"
      },
      "outputs": [
        {
          "output_type": "execute_result",
          "data": {
            "text/plain": [
              "    age  sex  on_thyroxine  query_on_thyroxine  on_antithyroid_medication  \\\n",
              "0  41.0    0             1                   1                          1   \n",
              "1  23.0    0             1                   1                          1   \n",
              "2  46.0    1             1                   1                          1   \n",
              "3  70.0    0             0                   1                          1   \n",
              "4  70.0    0             1                   1                          1   \n",
              "\n",
              "   sick  pregnant  thyroid_surgery  I131_treatment  query_hypothyroid  \\\n",
              "0     1         1                1               1                  1   \n",
              "1     1         1                1               1                  1   \n",
              "2     1         1                1               1                  1   \n",
              "3     1         1                1               1                  1   \n",
              "4     1         1                1               1                  1   \n",
              "\n",
              "   query_hyperthyroid  lithium  goitre  tumor  hypopituitary  psych   TSH  \\\n",
              "0                   1        1       1      1              1      1  1.30   \n",
              "1                   1        1       1      1              1      1  4.10   \n",
              "2                   1        1       1      1              1      1  0.98   \n",
              "3                   1        1       1      1              1      1  0.16   \n",
              "4                   1        1       1      1              1      1  0.72   \n",
              "\n",
              "   TSH_nan      T3  T3_nan    TT4  TT4_nan    T4U         FTI  FTI_nan  \\\n",
              "0        0  2.5000       0  125.0        0  1.140  109.000000        0   \n",
              "1        0  2.0000       0  102.0        0  0.995  110.469649        1   \n",
              "2        0  2.0135       1  109.0        0  0.910  120.000000        0   \n",
              "3        0  1.9000       0  175.0        0  0.995  110.469649        1   \n",
              "4        0  1.2000       0   61.0        0  0.870   70.000000        0   \n",
              "\n",
              "   referral_source  Cluster  \n",
              "0              386        2  \n",
              "1             2201        1  \n",
              "2             2201        1  \n",
              "3             2201        1  \n",
              "4             1034        0  "
            ],
            "text/html": [
              "\n",
              "  <div id=\"df-4dcc7775-8bf2-4a44-a5ea-21ca1c0a52bd\">\n",
              "    <div class=\"colab-df-container\">\n",
              "      <div>\n",
              "<style scoped>\n",
              "    .dataframe tbody tr th:only-of-type {\n",
              "        vertical-align: middle;\n",
              "    }\n",
              "\n",
              "    .dataframe tbody tr th {\n",
              "        vertical-align: top;\n",
              "    }\n",
              "\n",
              "    .dataframe thead th {\n",
              "        text-align: right;\n",
              "    }\n",
              "</style>\n",
              "<table border=\"1\" class=\"dataframe\">\n",
              "  <thead>\n",
              "    <tr style=\"text-align: right;\">\n",
              "      <th></th>\n",
              "      <th>age</th>\n",
              "      <th>sex</th>\n",
              "      <th>on_thyroxine</th>\n",
              "      <th>query_on_thyroxine</th>\n",
              "      <th>on_antithyroid_medication</th>\n",
              "      <th>sick</th>\n",
              "      <th>pregnant</th>\n",
              "      <th>thyroid_surgery</th>\n",
              "      <th>I131_treatment</th>\n",
              "      <th>query_hypothyroid</th>\n",
              "      <th>query_hyperthyroid</th>\n",
              "      <th>lithium</th>\n",
              "      <th>goitre</th>\n",
              "      <th>tumor</th>\n",
              "      <th>hypopituitary</th>\n",
              "      <th>psych</th>\n",
              "      <th>TSH</th>\n",
              "      <th>TSH_nan</th>\n",
              "      <th>T3</th>\n",
              "      <th>T3_nan</th>\n",
              "      <th>TT4</th>\n",
              "      <th>TT4_nan</th>\n",
              "      <th>T4U</th>\n",
              "      <th>FTI</th>\n",
              "      <th>FTI_nan</th>\n",
              "      <th>referral_source</th>\n",
              "      <th>Cluster</th>\n",
              "    </tr>\n",
              "  </thead>\n",
              "  <tbody>\n",
              "    <tr>\n",
              "      <th>0</th>\n",
              "      <td>41.0</td>\n",
              "      <td>0</td>\n",
              "      <td>1</td>\n",
              "      <td>1</td>\n",
              "      <td>1</td>\n",
              "      <td>1</td>\n",
              "      <td>1</td>\n",
              "      <td>1</td>\n",
              "      <td>1</td>\n",
              "      <td>1</td>\n",
              "      <td>1</td>\n",
              "      <td>1</td>\n",
              "      <td>1</td>\n",
              "      <td>1</td>\n",
              "      <td>1</td>\n",
              "      <td>1</td>\n",
              "      <td>1.30</td>\n",
              "      <td>0</td>\n",
              "      <td>2.5000</td>\n",
              "      <td>0</td>\n",
              "      <td>125.0</td>\n",
              "      <td>0</td>\n",
              "      <td>1.140</td>\n",
              "      <td>109.000000</td>\n",
              "      <td>0</td>\n",
              "      <td>386</td>\n",
              "      <td>2</td>\n",
              "    </tr>\n",
              "    <tr>\n",
              "      <th>1</th>\n",
              "      <td>23.0</td>\n",
              "      <td>0</td>\n",
              "      <td>1</td>\n",
              "      <td>1</td>\n",
              "      <td>1</td>\n",
              "      <td>1</td>\n",
              "      <td>1</td>\n",
              "      <td>1</td>\n",
              "      <td>1</td>\n",
              "      <td>1</td>\n",
              "      <td>1</td>\n",
              "      <td>1</td>\n",
              "      <td>1</td>\n",
              "      <td>1</td>\n",
              "      <td>1</td>\n",
              "      <td>1</td>\n",
              "      <td>4.10</td>\n",
              "      <td>0</td>\n",
              "      <td>2.0000</td>\n",
              "      <td>0</td>\n",
              "      <td>102.0</td>\n",
              "      <td>0</td>\n",
              "      <td>0.995</td>\n",
              "      <td>110.469649</td>\n",
              "      <td>1</td>\n",
              "      <td>2201</td>\n",
              "      <td>1</td>\n",
              "    </tr>\n",
              "    <tr>\n",
              "      <th>2</th>\n",
              "      <td>46.0</td>\n",
              "      <td>1</td>\n",
              "      <td>1</td>\n",
              "      <td>1</td>\n",
              "      <td>1</td>\n",
              "      <td>1</td>\n",
              "      <td>1</td>\n",
              "      <td>1</td>\n",
              "      <td>1</td>\n",
              "      <td>1</td>\n",
              "      <td>1</td>\n",
              "      <td>1</td>\n",
              "      <td>1</td>\n",
              "      <td>1</td>\n",
              "      <td>1</td>\n",
              "      <td>1</td>\n",
              "      <td>0.98</td>\n",
              "      <td>0</td>\n",
              "      <td>2.0135</td>\n",
              "      <td>1</td>\n",
              "      <td>109.0</td>\n",
              "      <td>0</td>\n",
              "      <td>0.910</td>\n",
              "      <td>120.000000</td>\n",
              "      <td>0</td>\n",
              "      <td>2201</td>\n",
              "      <td>1</td>\n",
              "    </tr>\n",
              "    <tr>\n",
              "      <th>3</th>\n",
              "      <td>70.0</td>\n",
              "      <td>0</td>\n",
              "      <td>0</td>\n",
              "      <td>1</td>\n",
              "      <td>1</td>\n",
              "      <td>1</td>\n",
              "      <td>1</td>\n",
              "      <td>1</td>\n",
              "      <td>1</td>\n",
              "      <td>1</td>\n",
              "      <td>1</td>\n",
              "      <td>1</td>\n",
              "      <td>1</td>\n",
              "      <td>1</td>\n",
              "      <td>1</td>\n",
              "      <td>1</td>\n",
              "      <td>0.16</td>\n",
              "      <td>0</td>\n",
              "      <td>1.9000</td>\n",
              "      <td>0</td>\n",
              "      <td>175.0</td>\n",
              "      <td>0</td>\n",
              "      <td>0.995</td>\n",
              "      <td>110.469649</td>\n",
              "      <td>1</td>\n",
              "      <td>2201</td>\n",
              "      <td>1</td>\n",
              "    </tr>\n",
              "    <tr>\n",
              "      <th>4</th>\n",
              "      <td>70.0</td>\n",
              "      <td>0</td>\n",
              "      <td>1</td>\n",
              "      <td>1</td>\n",
              "      <td>1</td>\n",
              "      <td>1</td>\n",
              "      <td>1</td>\n",
              "      <td>1</td>\n",
              "      <td>1</td>\n",
              "      <td>1</td>\n",
              "      <td>1</td>\n",
              "      <td>1</td>\n",
              "      <td>1</td>\n",
              "      <td>1</td>\n",
              "      <td>1</td>\n",
              "      <td>1</td>\n",
              "      <td>0.72</td>\n",
              "      <td>0</td>\n",
              "      <td>1.2000</td>\n",
              "      <td>0</td>\n",
              "      <td>61.0</td>\n",
              "      <td>0</td>\n",
              "      <td>0.870</td>\n",
              "      <td>70.000000</td>\n",
              "      <td>0</td>\n",
              "      <td>1034</td>\n",
              "      <td>0</td>\n",
              "    </tr>\n",
              "  </tbody>\n",
              "</table>\n",
              "</div>\n",
              "      <button class=\"colab-df-convert\" onclick=\"convertToInteractive('df-4dcc7775-8bf2-4a44-a5ea-21ca1c0a52bd')\"\n",
              "              title=\"Convert this dataframe to an interactive table.\"\n",
              "              style=\"display:none;\">\n",
              "        \n",
              "  <svg xmlns=\"http://www.w3.org/2000/svg\" height=\"24px\"viewBox=\"0 0 24 24\"\n",
              "       width=\"24px\">\n",
              "    <path d=\"M0 0h24v24H0V0z\" fill=\"none\"/>\n",
              "    <path d=\"M18.56 5.44l.94 2.06.94-2.06 2.06-.94-2.06-.94-.94-2.06-.94 2.06-2.06.94zm-11 1L8.5 8.5l.94-2.06 2.06-.94-2.06-.94L8.5 2.5l-.94 2.06-2.06.94zm10 10l.94 2.06.94-2.06 2.06-.94-2.06-.94-.94-2.06-.94 2.06-2.06.94z\"/><path d=\"M17.41 7.96l-1.37-1.37c-.4-.4-.92-.59-1.43-.59-.52 0-1.04.2-1.43.59L10.3 9.45l-7.72 7.72c-.78.78-.78 2.05 0 2.83L4 21.41c.39.39.9.59 1.41.59.51 0 1.02-.2 1.41-.59l7.78-7.78 2.81-2.81c.8-.78.8-2.07 0-2.86zM5.41 20L4 18.59l7.72-7.72 1.47 1.35L5.41 20z\"/>\n",
              "  </svg>\n",
              "      </button>\n",
              "      \n",
              "  <style>\n",
              "    .colab-df-container {\n",
              "      display:flex;\n",
              "      flex-wrap:wrap;\n",
              "      gap: 12px;\n",
              "    }\n",
              "\n",
              "    .colab-df-convert {\n",
              "      background-color: #E8F0FE;\n",
              "      border: none;\n",
              "      border-radius: 50%;\n",
              "      cursor: pointer;\n",
              "      display: none;\n",
              "      fill: #1967D2;\n",
              "      height: 32px;\n",
              "      padding: 0 0 0 0;\n",
              "      width: 32px;\n",
              "    }\n",
              "\n",
              "    .colab-df-convert:hover {\n",
              "      background-color: #E2EBFA;\n",
              "      box-shadow: 0px 1px 2px rgba(60, 64, 67, 0.3), 0px 1px 3px 1px rgba(60, 64, 67, 0.15);\n",
              "      fill: #174EA6;\n",
              "    }\n",
              "\n",
              "    [theme=dark] .colab-df-convert {\n",
              "      background-color: #3B4455;\n",
              "      fill: #D2E3FC;\n",
              "    }\n",
              "\n",
              "    [theme=dark] .colab-df-convert:hover {\n",
              "      background-color: #434B5C;\n",
              "      box-shadow: 0px 1px 3px 1px rgba(0, 0, 0, 0.15);\n",
              "      filter: drop-shadow(0px 1px 2px rgba(0, 0, 0, 0.3));\n",
              "      fill: #FFFFFF;\n",
              "    }\n",
              "  </style>\n",
              "\n",
              "      <script>\n",
              "        const buttonEl =\n",
              "          document.querySelector('#df-4dcc7775-8bf2-4a44-a5ea-21ca1c0a52bd button.colab-df-convert');\n",
              "        buttonEl.style.display =\n",
              "          google.colab.kernel.accessAllowed ? 'block' : 'none';\n",
              "\n",
              "        async function convertToInteractive(key) {\n",
              "          const element = document.querySelector('#df-4dcc7775-8bf2-4a44-a5ea-21ca1c0a52bd');\n",
              "          const dataTable =\n",
              "            await google.colab.kernel.invokeFunction('convertToInteractive',\n",
              "                                                     [key], {});\n",
              "          if (!dataTable) return;\n",
              "\n",
              "          const docLinkHtml = 'Like what you see? Visit the ' +\n",
              "            '<a target=\"_blank\" href=https://colab.research.google.com/notebooks/data_table.ipynb>data table notebook</a>'\n",
              "            + ' to learn more about interactive tables.';\n",
              "          element.innerHTML = '';\n",
              "          dataTable['output_type'] = 'display_data';\n",
              "          await google.colab.output.renderOutput(dataTable, element);\n",
              "          const docLink = document.createElement('div');\n",
              "          docLink.innerHTML = docLinkHtml;\n",
              "          element.appendChild(docLink);\n",
              "        }\n",
              "      </script>\n",
              "    </div>\n",
              "  </div>\n",
              "  "
            ]
          },
          "metadata": {},
          "execution_count": 45
        }
      ],
      "source": [
        "#Clustering data to fit separate models on the different clusters , so that model generalises well\n",
        "#From above elbow curve , optimal no. of clusters is 3 or 4 ( as expected )\n",
        "\n",
        "from sklearn.cluster import KMeans\n",
        "kmeans=KMeans(n_clusters=4)\n",
        "kmeans.fit(data.drop(['Class'],axis=1)) \n",
        "data['Cluster']=kmeans.predict(data.drop(['Class'],axis=1))\n",
        "data.drop(['Class'],axis=1).head()"
      ]
    },
    {
      "cell_type": "code",
      "execution_count": 46,
      "metadata": {
        "colab": {
          "base_uri": "https://localhost:8080/"
        },
        "id": "gwVlSyK1Ko5Z",
        "outputId": "c6bbd464-3faf-45f2-fca6-d5b0ad35e58d"
      },
      "outputs": [
        {
          "output_type": "execute_result",
          "data": {
            "text/plain": [
              "{0, 1, 2, 3}"
            ]
          },
          "metadata": {},
          "execution_count": 46
        }
      ],
      "source": [
        "# cluster labels\n",
        "set(kmeans.labels_)"
      ]
    },
    {
      "cell_type": "code",
      "execution_count": 47,
      "metadata": {
        "colab": {
          "base_uri": "https://localhost:8080/"
        },
        "id": "e_QDIsx2Ko5Z",
        "outputId": "1e757b9d-06da-4efe-e8b6-c56d608e60fb"
      },
      "outputs": [
        {
          "output_type": "execute_result",
          "data": {
            "text/plain": [
              "1    9472\n",
              "0    3456\n",
              "2     585\n",
              "3     411\n",
              "Name: Cluster, dtype: int64"
            ]
          },
          "metadata": {},
          "execution_count": 47
        }
      ],
      "source": [
        "data.Cluster.value_counts()"
      ]
    },
    {
      "cell_type": "code",
      "execution_count": 48,
      "metadata": {
        "id": "UNiEMyzRKo5a"
      },
      "outputs": [],
      "source": [
        "data_c1=data[data.Cluster==0].drop(['Cluster'],axis=1).copy(deep=True)\n",
        "data_c2=data[data.Cluster==1].drop(['Cluster'],axis=1).copy(deep=True)\n",
        "data_c3=data[data.Cluster==2].drop(['Cluster'],axis=1).copy(deep=True)\n",
        "data_c4=data[data.Cluster==3].drop(['Cluster'],axis=1).copy(deep=True)"
      ]
    },
    {
      "cell_type": "code",
      "execution_count": 49,
      "metadata": {
        "colab": {
          "base_uri": "https://localhost:8080/",
          "height": 35
        },
        "id": "vYJZVeNsKo5a",
        "outputId": "3e753d1e-af35-4b83-bdcf-75ee8c9e1102"
      },
      "outputs": [
        {
          "output_type": "execute_result",
          "data": {
            "text/plain": [
              "' Logistic Regression , KNN , SVM , Naive Bayes Classifier , Dtree Classifier, XGB classifier , rand-forest classifier\\nStacking '"
            ],
            "application/vnd.google.colaboratory.intrinsic+json": {
              "type": "string"
            }
          },
          "metadata": {},
          "execution_count": 49
        }
      ],
      "source": [
        "#Classification Models to try :\n",
        "\"\"\" Logistic Regression , KNN , SVM , Naive Bayes Classifier , Dtree Classifier, XGB classifier , rand-forest classifier\n",
        "Stacking \"\"\""
      ]
    },
    {
      "cell_type": "code",
      "execution_count": 50,
      "metadata": {
        "id": "aHpGkFEuKo5a"
      },
      "outputs": [],
      "source": [
        "# Evaluation metric for models - Recall ( Since , thyroid is a life\n",
        "# threatening disease , it is important to identify if a person is \n",
        "# having it ; hencewe choose Recall / sensitivity a s our model)"
      ]
    },
    {
      "cell_type": "code",
      "execution_count": 51,
      "metadata": {
        "colab": {
          "base_uri": "https://localhost:8080/"
        },
        "id": "m5Yi_PTTKo5a",
        "outputId": "378412c4-5e66-4ba4-f45e-a4a0fb7e1a8f"
      },
      "outputs": [
        {
          "output_type": "stream",
          "name": "stdout",
          "text": [
            "Cluster 1--Recall:0.9611895618107286  Accuracy :0.9652844744455159 \n",
            "Cluster 2--Recall:0.980540696243636  Accuracy :0.9827586206896551 \n",
            "Cluster 3--Recall:0.9971509971509972  Accuracy :0.9943181818181818 \n",
            "Cluster 4--Recall:1.0  Accuracy :1.0 \n"
          ]
        }
      ],
      "source": [
        "#Trying Logistic Regression\n",
        "\n",
        "import numpy as np\n",
        "from sklearn.model_selection import train_test_split\n",
        "from sklearn.linear_model import LogisticRegression\n",
        "from sklearn.metrics import recall_score,accuracy_score,roc_auc_score\n",
        "\n",
        "scores_logreg=[]\n",
        "accuracy_logreg=[]\n",
        "\n",
        "# Standardizing the data\n",
        "\n",
        "from sklearn.preprocessing import StandardScaler\n",
        "scaler=StandardScaler()\n",
        "\n",
        "for i in [data_c1,data_c2,data_c3,data_c4]:\n",
        "        X=i.drop(['Class'],axis=1)\n",
        "        X=scaler.fit_transform(X)\n",
        "        y=i.Class\n",
        "        X_train,X_test,y_train,y_test=train_test_split(X,np.ravel(y),test_size=0.3,random_state=2)\n",
        "\n",
        "        logreg=LogisticRegression(max_iter=1000,solver='newton-cg')\n",
        "        logreg.fit(X_train,y_train)\n",
        "        pred=logreg.predict(X_test)\n",
        "        pred_proba=logreg.predict_proba(X_test)\n",
        "\n",
        "        #collecting accuracy\n",
        "        acc=accuracy_score(y_test,pred)\n",
        "        accuracy_logreg.append(acc)\n",
        "\n",
        "        #collecting recall\n",
        "        recall=recall_score(y_test,pred,average='macro')\n",
        "        scores_logreg.append(recall)\n",
        "\n",
        "            \n",
        "print(f\"Cluster 1--Recall:{scores_logreg[0]}  Accuracy :{accuracy_logreg[0]} \")\n",
        "print(f\"Cluster 2--Recall:{scores_logreg[1]}  Accuracy :{accuracy_logreg[1]} \")\n",
        "print(f\"Cluster 3--Recall:{scores_logreg[2]}  Accuracy :{accuracy_logreg[2]} \")\n",
        "print(f\"Cluster 4--Recall:{scores_logreg[3]}  Accuracy :{accuracy_logreg[3]} \")"
      ]
    },
    {
      "cell_type": "code",
      "execution_count": 52,
      "metadata": {
        "colab": {
          "base_uri": "https://localhost:8080/"
        },
        "id": "sUU2btxUKo5b",
        "outputId": "e3fde2ba-d91e-4172-accc-65b5393b80cc"
      },
      "outputs": [
        {
          "output_type": "stream",
          "name": "stdout",
          "text": [
            "Cluster 1---Recall : 0.9694044359798437  Accuracy : 0.9758919961427194\n",
            "Cluster 2---Recall : 0.9772132415455383  Accuracy : 0.9799437016185785\n",
            "Cluster 3---Recall : 0.9943019943019943  Accuracy : 0.9886363636363636\n",
            "Cluster 4---Recall : 0.9814814814814815  Accuracy : 0.9838709677419355\n"
          ]
        }
      ],
      "source": [
        "# Trying KNN Classifier\n",
        "\n",
        "from sklearn.neighbors import KNeighborsClassifier\n",
        "\n",
        "scores_knn=[]\n",
        "accuracy_knn=[]\n",
        "\n",
        "scaler=StandardScaler()\n",
        "\n",
        "for i in [data_c1,data_c2,data_c3,data_c4]:\n",
        "        X=i.drop(['Class'],axis=1)\n",
        "        X=scaler.fit_transform(X)\n",
        "        y=i.Class\n",
        "        X_train,X_test,y_train,y_test=train_test_split(X,np.ravel(y),test_size=0.3,random_state=2)\n",
        "        \n",
        "        knn=KNeighborsClassifier(n_neighbors=10,weights='distance',metric='euclidean')\n",
        "        knn.fit(X_train,y_train)\n",
        "        pred=knn.predict(X_test)\n",
        "\n",
        "        #collecting accuracy\n",
        "        acc=accuracy_score(y_test,pred)\n",
        "        accuracy_knn.append(acc)\n",
        "\n",
        "        #collecting recall\n",
        "        recall=recall_score(y_test,pred,average='macro')\n",
        "        scores_knn.append(recall)\n",
        "            \n",
        "print(f\"Cluster 1---Recall : {scores_knn[0]}  Accuracy : {accuracy_knn[0]}\")\n",
        "print(f\"Cluster 2---Recall : {scores_knn[1]}  Accuracy : {accuracy_knn[1]}\")\n",
        "print(f\"Cluster 3---Recall : {scores_knn[2]}  Accuracy : {accuracy_knn[2]}\")\n",
        "print(f\"Cluster 4---Recall : {scores_knn[3]}  Accuracy : {accuracy_knn[3]}\")"
      ]
    },
    {
      "cell_type": "code",
      "execution_count": 53,
      "metadata": {
        "colab": {
          "base_uri": "https://localhost:8080/"
        },
        "id": "F5GMtZavKo5b",
        "outputId": "94ce467b-5f07-44ad-ddd7-3947c956dd11"
      },
      "outputs": [
        {
          "output_type": "stream",
          "name": "stdout",
          "text": [
            "Cluster 1---Recall : 0.8257191604174107  Accuracy : 0.8543876567020251\n",
            "Cluster 2---Recall : 0.8198280910602799  Accuracy : 0.8465869106263195\n",
            "Cluster 3---Recall : 0.8245614035087719  Accuracy : 0.8295454545454546\n",
            "Cluster 4---Recall : 0.8055555555555555  Accuracy : 0.8306451612903226\n"
          ]
        }
      ],
      "source": [
        "# Trying SVM Classifier\n",
        "\n",
        "from sklearn.svm import SVC,LinearSVC\n",
        "\n",
        "\n",
        "scores_svc=[]\n",
        "accuracy_svc=[]\n",
        "\n",
        "scaler=StandardScaler()\n",
        "\n",
        "for i in [data_c1,data_c2,data_c3,data_c4]:\n",
        "        X=i.drop(['Class'],axis=1)\n",
        "        X=scaler.fit_transform(X)\n",
        "        y=i.Class\n",
        "        X_train,X_test,y_train,y_test=train_test_split(X,np.ravel(y),test_size=0.3,random_state=2)\n",
        "        \n",
        "        svc=SVC(C=1, kernel=\"poly\", degree=4)\n",
        "\n",
        "        svc.fit(X_train,y_train)\n",
        "        pred=svc.predict(X_test)\n",
        "\n",
        "        #collecting accuracy\n",
        "        acc=accuracy_score(y_test,pred)\n",
        "        accuracy_svc.append(acc)\n",
        "\n",
        "        #collecting recall\n",
        "        recall=recall_score(y_test,pred,average='macro')\n",
        "        scores_svc.append(recall)\n",
        "            \n",
        "print(f\"Cluster 1---Recall : {scores_svc[0]}  Accuracy : {accuracy_svc[0]}\")\n",
        "print(f\"Cluster 2---Recall : {scores_svc[1]}  Accuracy : {accuracy_svc[1]}\")\n",
        "print(f\"Cluster 3---Recall : {scores_svc[2]}  Accuracy : {accuracy_svc[2]}\")\n",
        "print(f\"Cluster 4---Recall : {scores_svc[3]}  Accuracy : {accuracy_svc[3]}\")\n",
        "\n"
      ]
    },
    {
      "cell_type": "code",
      "execution_count": 54,
      "metadata": {
        "colab": {
          "base_uri": "https://localhost:8080/"
        },
        "id": "KgGVxh9eKo5c",
        "outputId": "fa4a6db4-3d01-462e-f29b-3ab9dd6f6f47"
      },
      "outputs": [
        {
          "output_type": "stream",
          "name": "stdout",
          "text": [
            "Cluster 1---Recall : 0.8596121597888304  Accuracy : 0.863066538090646\n",
            "Cluster 2---Recall : 0.7870951121007402  Accuracy : 0.7938071780436312\n",
            "Cluster 3---Recall : 0.9601139601139601  Accuracy : 0.9204545454545454\n",
            "Cluster 4---Recall : 0.9002849002849004  Accuracy : 0.9032258064516129\n"
          ]
        }
      ],
      "source": [
        "# Trying Naive Bayes\n",
        "\n",
        "from sklearn.naive_bayes import MultinomialNB\n",
        "\n",
        "scores_nb=[]\n",
        "accuracy_nb=[]\n",
        "\n",
        "for i in [data_c1,data_c2,data_c3,data_c4]:\n",
        "        X=i.drop(['Class'],axis=1)\n",
        "        y=i.Class\n",
        "        X_train,X_test,y_train,y_test=train_test_split(X,np.ravel(y),test_size=0.3,random_state=2)\n",
        "        \n",
        "        nb=MultinomialNB()\n",
        "        nb.fit(X_train,y_train)\n",
        "        pred=nb.predict(X_test)\n",
        "\n",
        "        #collecting accuracy\n",
        "        acc=accuracy_score(y_test,pred)\n",
        "        accuracy_nb.append(acc)\n",
        "\n",
        "        #collecting recall\n",
        "        recall=recall_score(y_test,pred,average='macro')\n",
        "        scores_nb.append(recall)\n",
        "            \n",
        "print(f\"Cluster 1---Recall : {scores_nb[0]}  Accuracy : {accuracy_nb[0]}\")\n",
        "print(f\"Cluster 2---Recall : {scores_nb[1]}  Accuracy : {accuracy_nb[1]}\")\n",
        "print(f\"Cluster 3---Recall : {scores_nb[2]}  Accuracy : {accuracy_nb[2]}\")\n",
        "print(f\"Cluster 4---Recall : {scores_nb[3]}  Accuracy : {accuracy_nb[3]}\")"
      ]
    },
    {
      "cell_type": "code",
      "execution_count": 55,
      "metadata": {
        "colab": {
          "base_uri": "https://localhost:8080/"
        },
        "id": "yOMS6r9pKo5c",
        "outputId": "9b60465a-1ec9-4a5b-8dbb-4425aeb85628"
      },
      "outputs": [
        {
          "output_type": "stream",
          "name": "stdout",
          "text": [
            "Cluster 1---Recall : 0.9915446573820578  Accuracy : 0.9932497589199615\n",
            "Cluster 2---Recall : 0.991351438120045  Accuracy : 0.9922589725545391\n",
            "Cluster 3---Recall : 0.9971509971509972  Accuracy : 0.9943181818181818\n",
            "Cluster 4---Recall : 0.9907407407407408  Accuracy : 0.9919354838709677\n"
          ]
        }
      ],
      "source": [
        "#Trying Random Forest\n",
        "\n",
        "from sklearn.ensemble import RandomForestClassifier\n",
        "\n",
        "scores_rf=[]\n",
        "accuracy_rf=[]\n",
        "\n",
        "for i in [data_c1,data_c2,data_c3,data_c4]:\n",
        "        X=i.drop(['Class'],axis=1)\n",
        "        y=i.Class\n",
        "        X_train,X_test,y_train,y_test=train_test_split(X,np.ravel(y),test_size=0.3,random_state=2)\n",
        "        \n",
        "        rf=RandomForestClassifier()\n",
        "        rf.fit(X_train,y_train)\n",
        "        pred=rf.predict(X_test)\n",
        "\n",
        "        #collecting accuracy\n",
        "        acc=accuracy_score(y_test,pred)\n",
        "        accuracy_rf.append(acc)\n",
        "\n",
        "        #collecting recall\n",
        "        recall=recall_score(y_test,pred,average='macro')\n",
        "        scores_rf.append(recall)\n",
        "            \n",
        "print(f\"Cluster 1---Recall : {scores_rf[0]}  Accuracy : {accuracy_rf[0]}\")\n",
        "print(f\"Cluster 2---Recall : {scores_rf[1]}  Accuracy : {accuracy_rf[1]}\")\n",
        "print(f\"Cluster 3---Recall : {scores_rf[2]}  Accuracy : {accuracy_rf[2]}\")\n",
        "print(f\"Cluster 4---Recall : {scores_rf[3]}  Accuracy : {accuracy_rf[3]}\")"
      ]
    },
    {
      "cell_type": "code",
      "execution_count": 56,
      "metadata": {
        "colab": {
          "base_uri": "https://localhost:8080/"
        },
        "id": "ggcDtDn6Ko5c",
        "outputId": "3bf6e1ee-b885-4395-f7d7-12c94ed9eb96"
      },
      "outputs": [
        {
          "output_type": "stream",
          "name": "stdout",
          "text": [
            "Cluster 1---Recall : 0.9889298892988929  Accuracy : 0.991321118611379\n",
            "Cluster 2---Recall : 0.9864251371940311  Accuracy : 0.988036593947924\n",
            "Cluster 3---Recall : 0.9971509971509972  Accuracy : 0.9943181818181818\n",
            "Cluster 4---Recall : 0.9722222222222222  Accuracy : 0.9758064516129032\n"
          ]
        }
      ],
      "source": [
        "#Trying XGB Classsifier\n",
        "\n",
        "from xgboost import XGBClassifier\n",
        "\n",
        "scores_xgb=[]\n",
        "accuracy_xgb=[]\n",
        "\n",
        "for i in [data_c1,data_c2,data_c3,data_c4]:\n",
        "        X=i.drop(['Class'],axis=1)\n",
        "        y=i.Class\n",
        "        X_train,X_test,y_train,y_test=train_test_split(X,np.ravel(y),test_size=0.3,random_state=2)\n",
        "        \n",
        "        xgb=XGBClassifier(use_label_encoder=False ,eval_metric='error')\n",
        "        xgb.fit(X_train,y_train)\n",
        "        pred=xgb.predict(X_test)\n",
        "\n",
        "        #collecting accuracy\n",
        "        acc=accuracy_score(y_test,pred)\n",
        "        accuracy_xgb.append(acc)\n",
        "\n",
        "        #collecting recall\n",
        "        recall=recall_score(y_test,pred,average='macro')\n",
        "        scores_xgb.append(recall)\n",
        "            \n",
        "print(f\"Cluster 1---Recall : {scores_xgb[0]}  Accuracy : {accuracy_xgb[0]}\")\n",
        "print(f\"Cluster 2---Recall : {scores_xgb[1]}  Accuracy : {accuracy_xgb[1]}\")\n",
        "print(f\"Cluster 3---Recall : {scores_xgb[2]}  Accuracy : {accuracy_xgb[2]}\")\n",
        "print(f\"Cluster 4---Recall : {scores_xgb[3]}  Accuracy : {accuracy_xgb[3]}\")\n"
      ]
    },
    {
      "cell_type": "code",
      "execution_count": 57,
      "metadata": {
        "colab": {
          "base_uri": "https://localhost:8080/",
          "height": 237
        },
        "id": "z2_ZovN2Ko5d",
        "outputId": "22f118bf-4c2a-44a5-c4e1-e27f6b5e9909"
      },
      "outputs": [
        {
          "output_type": "execute_result",
          "data": {
            "text/plain": [
              "               Cluster 1  Cluster 2  Cluster 3  Cluster 4\n",
              "Logreg_recall   0.961190   0.980541   0.997151   1.000000\n",
              "knn_recall      0.969404   0.977213   0.994302   0.981481\n",
              "svc_recall      0.825719   0.819828   0.824561   0.805556\n",
              "nb_recall       0.859612   0.787095   0.960114   0.900285\n",
              "rf_recall       0.991545   0.991351   0.997151   0.990741\n",
              "xgb_recall      0.988930   0.986425   0.997151   0.972222"
            ],
            "text/html": [
              "\n",
              "  <div id=\"df-6550e77c-b351-414b-b09f-dfbf2374714d\">\n",
              "    <div class=\"colab-df-container\">\n",
              "      <div>\n",
              "<style scoped>\n",
              "    .dataframe tbody tr th:only-of-type {\n",
              "        vertical-align: middle;\n",
              "    }\n",
              "\n",
              "    .dataframe tbody tr th {\n",
              "        vertical-align: top;\n",
              "    }\n",
              "\n",
              "    .dataframe thead th {\n",
              "        text-align: right;\n",
              "    }\n",
              "</style>\n",
              "<table border=\"1\" class=\"dataframe\">\n",
              "  <thead>\n",
              "    <tr style=\"text-align: right;\">\n",
              "      <th></th>\n",
              "      <th>Cluster 1</th>\n",
              "      <th>Cluster 2</th>\n",
              "      <th>Cluster 3</th>\n",
              "      <th>Cluster 4</th>\n",
              "    </tr>\n",
              "  </thead>\n",
              "  <tbody>\n",
              "    <tr>\n",
              "      <th>Logreg_recall</th>\n",
              "      <td>0.961190</td>\n",
              "      <td>0.980541</td>\n",
              "      <td>0.997151</td>\n",
              "      <td>1.000000</td>\n",
              "    </tr>\n",
              "    <tr>\n",
              "      <th>knn_recall</th>\n",
              "      <td>0.969404</td>\n",
              "      <td>0.977213</td>\n",
              "      <td>0.994302</td>\n",
              "      <td>0.981481</td>\n",
              "    </tr>\n",
              "    <tr>\n",
              "      <th>svc_recall</th>\n",
              "      <td>0.825719</td>\n",
              "      <td>0.819828</td>\n",
              "      <td>0.824561</td>\n",
              "      <td>0.805556</td>\n",
              "    </tr>\n",
              "    <tr>\n",
              "      <th>nb_recall</th>\n",
              "      <td>0.859612</td>\n",
              "      <td>0.787095</td>\n",
              "      <td>0.960114</td>\n",
              "      <td>0.900285</td>\n",
              "    </tr>\n",
              "    <tr>\n",
              "      <th>rf_recall</th>\n",
              "      <td>0.991545</td>\n",
              "      <td>0.991351</td>\n",
              "      <td>0.997151</td>\n",
              "      <td>0.990741</td>\n",
              "    </tr>\n",
              "    <tr>\n",
              "      <th>xgb_recall</th>\n",
              "      <td>0.988930</td>\n",
              "      <td>0.986425</td>\n",
              "      <td>0.997151</td>\n",
              "      <td>0.972222</td>\n",
              "    </tr>\n",
              "  </tbody>\n",
              "</table>\n",
              "</div>\n",
              "      <button class=\"colab-df-convert\" onclick=\"convertToInteractive('df-6550e77c-b351-414b-b09f-dfbf2374714d')\"\n",
              "              title=\"Convert this dataframe to an interactive table.\"\n",
              "              style=\"display:none;\">\n",
              "        \n",
              "  <svg xmlns=\"http://www.w3.org/2000/svg\" height=\"24px\"viewBox=\"0 0 24 24\"\n",
              "       width=\"24px\">\n",
              "    <path d=\"M0 0h24v24H0V0z\" fill=\"none\"/>\n",
              "    <path d=\"M18.56 5.44l.94 2.06.94-2.06 2.06-.94-2.06-.94-.94-2.06-.94 2.06-2.06.94zm-11 1L8.5 8.5l.94-2.06 2.06-.94-2.06-.94L8.5 2.5l-.94 2.06-2.06.94zm10 10l.94 2.06.94-2.06 2.06-.94-2.06-.94-.94-2.06-.94 2.06-2.06.94z\"/><path d=\"M17.41 7.96l-1.37-1.37c-.4-.4-.92-.59-1.43-.59-.52 0-1.04.2-1.43.59L10.3 9.45l-7.72 7.72c-.78.78-.78 2.05 0 2.83L4 21.41c.39.39.9.59 1.41.59.51 0 1.02-.2 1.41-.59l7.78-7.78 2.81-2.81c.8-.78.8-2.07 0-2.86zM5.41 20L4 18.59l7.72-7.72 1.47 1.35L5.41 20z\"/>\n",
              "  </svg>\n",
              "      </button>\n",
              "      \n",
              "  <style>\n",
              "    .colab-df-container {\n",
              "      display:flex;\n",
              "      flex-wrap:wrap;\n",
              "      gap: 12px;\n",
              "    }\n",
              "\n",
              "    .colab-df-convert {\n",
              "      background-color: #E8F0FE;\n",
              "      border: none;\n",
              "      border-radius: 50%;\n",
              "      cursor: pointer;\n",
              "      display: none;\n",
              "      fill: #1967D2;\n",
              "      height: 32px;\n",
              "      padding: 0 0 0 0;\n",
              "      width: 32px;\n",
              "    }\n",
              "\n",
              "    .colab-df-convert:hover {\n",
              "      background-color: #E2EBFA;\n",
              "      box-shadow: 0px 1px 2px rgba(60, 64, 67, 0.3), 0px 1px 3px 1px rgba(60, 64, 67, 0.15);\n",
              "      fill: #174EA6;\n",
              "    }\n",
              "\n",
              "    [theme=dark] .colab-df-convert {\n",
              "      background-color: #3B4455;\n",
              "      fill: #D2E3FC;\n",
              "    }\n",
              "\n",
              "    [theme=dark] .colab-df-convert:hover {\n",
              "      background-color: #434B5C;\n",
              "      box-shadow: 0px 1px 3px 1px rgba(0, 0, 0, 0.15);\n",
              "      filter: drop-shadow(0px 1px 2px rgba(0, 0, 0, 0.3));\n",
              "      fill: #FFFFFF;\n",
              "    }\n",
              "  </style>\n",
              "\n",
              "      <script>\n",
              "        const buttonEl =\n",
              "          document.querySelector('#df-6550e77c-b351-414b-b09f-dfbf2374714d button.colab-df-convert');\n",
              "        buttonEl.style.display =\n",
              "          google.colab.kernel.accessAllowed ? 'block' : 'none';\n",
              "\n",
              "        async function convertToInteractive(key) {\n",
              "          const element = document.querySelector('#df-6550e77c-b351-414b-b09f-dfbf2374714d');\n",
              "          const dataTable =\n",
              "            await google.colab.kernel.invokeFunction('convertToInteractive',\n",
              "                                                     [key], {});\n",
              "          if (!dataTable) return;\n",
              "\n",
              "          const docLinkHtml = 'Like what you see? Visit the ' +\n",
              "            '<a target=\"_blank\" href=https://colab.research.google.com/notebooks/data_table.ipynb>data table notebook</a>'\n",
              "            + ' to learn more about interactive tables.';\n",
              "          element.innerHTML = '';\n",
              "          dataTable['output_type'] = 'display_data';\n",
              "          await google.colab.output.renderOutput(dataTable, element);\n",
              "          const docLink = document.createElement('div');\n",
              "          docLink.innerHTML = docLinkHtml;\n",
              "          element.appendChild(docLink);\n",
              "        }\n",
              "      </script>\n",
              "    </div>\n",
              "  </div>\n",
              "  "
            ]
          },
          "metadata": {},
          "execution_count": 57
        }
      ],
      "source": [
        "# Comparing Recall Values\n",
        "\n",
        "recall_vals=pd.DataFrame(data=[scores_logreg,scores_knn,scores_svc,\n",
        "                        scores_nb,scores_rf,scores_xgb],\n",
        "                        index=['Logreg_recall','knn_recall','svc_recall',\n",
        "                        'nb_recall','rf_recall','xgb_recall'],\n",
        "                        columns=['Cluster 1','Cluster 2','Cluster 3','Cluster 4'])\n",
        "\n",
        "recall_vals"
      ]
    },
    {
      "cell_type": "code",
      "execution_count": 58,
      "metadata": {
        "colab": {
          "base_uri": "https://localhost:8080/",
          "height": 237
        },
        "id": "_Y--uDwwKo5d",
        "outputId": "c4e8d5ee-03d5-4a54-899e-39af825aec8e"
      },
      "outputs": [
        {
          "output_type": "execute_result",
          "data": {
            "text/plain": [
              "                 Cluster 1  Cluster 2  Cluster 3  Cluster 4\n",
              "Logreg_accuracy   0.965284   0.982759   0.994318   1.000000\n",
              "knn_accuracy      0.975892   0.979944   0.988636   0.983871\n",
              "svc_accuracy      0.854388   0.846587   0.829545   0.830645\n",
              "nb_accuracy       0.863067   0.793807   0.920455   0.903226\n",
              "rf_accuracy       0.993250   0.992259   0.994318   0.991935\n",
              "xgb_accuracy      0.991321   0.988037   0.994318   0.975806"
            ],
            "text/html": [
              "\n",
              "  <div id=\"df-657e09b9-0700-40f1-b8d9-3859207579b5\">\n",
              "    <div class=\"colab-df-container\">\n",
              "      <div>\n",
              "<style scoped>\n",
              "    .dataframe tbody tr th:only-of-type {\n",
              "        vertical-align: middle;\n",
              "    }\n",
              "\n",
              "    .dataframe tbody tr th {\n",
              "        vertical-align: top;\n",
              "    }\n",
              "\n",
              "    .dataframe thead th {\n",
              "        text-align: right;\n",
              "    }\n",
              "</style>\n",
              "<table border=\"1\" class=\"dataframe\">\n",
              "  <thead>\n",
              "    <tr style=\"text-align: right;\">\n",
              "      <th></th>\n",
              "      <th>Cluster 1</th>\n",
              "      <th>Cluster 2</th>\n",
              "      <th>Cluster 3</th>\n",
              "      <th>Cluster 4</th>\n",
              "    </tr>\n",
              "  </thead>\n",
              "  <tbody>\n",
              "    <tr>\n",
              "      <th>Logreg_accuracy</th>\n",
              "      <td>0.965284</td>\n",
              "      <td>0.982759</td>\n",
              "      <td>0.994318</td>\n",
              "      <td>1.000000</td>\n",
              "    </tr>\n",
              "    <tr>\n",
              "      <th>knn_accuracy</th>\n",
              "      <td>0.975892</td>\n",
              "      <td>0.979944</td>\n",
              "      <td>0.988636</td>\n",
              "      <td>0.983871</td>\n",
              "    </tr>\n",
              "    <tr>\n",
              "      <th>svc_accuracy</th>\n",
              "      <td>0.854388</td>\n",
              "      <td>0.846587</td>\n",
              "      <td>0.829545</td>\n",
              "      <td>0.830645</td>\n",
              "    </tr>\n",
              "    <tr>\n",
              "      <th>nb_accuracy</th>\n",
              "      <td>0.863067</td>\n",
              "      <td>0.793807</td>\n",
              "      <td>0.920455</td>\n",
              "      <td>0.903226</td>\n",
              "    </tr>\n",
              "    <tr>\n",
              "      <th>rf_accuracy</th>\n",
              "      <td>0.993250</td>\n",
              "      <td>0.992259</td>\n",
              "      <td>0.994318</td>\n",
              "      <td>0.991935</td>\n",
              "    </tr>\n",
              "    <tr>\n",
              "      <th>xgb_accuracy</th>\n",
              "      <td>0.991321</td>\n",
              "      <td>0.988037</td>\n",
              "      <td>0.994318</td>\n",
              "      <td>0.975806</td>\n",
              "    </tr>\n",
              "  </tbody>\n",
              "</table>\n",
              "</div>\n",
              "      <button class=\"colab-df-convert\" onclick=\"convertToInteractive('df-657e09b9-0700-40f1-b8d9-3859207579b5')\"\n",
              "              title=\"Convert this dataframe to an interactive table.\"\n",
              "              style=\"display:none;\">\n",
              "        \n",
              "  <svg xmlns=\"http://www.w3.org/2000/svg\" height=\"24px\"viewBox=\"0 0 24 24\"\n",
              "       width=\"24px\">\n",
              "    <path d=\"M0 0h24v24H0V0z\" fill=\"none\"/>\n",
              "    <path d=\"M18.56 5.44l.94 2.06.94-2.06 2.06-.94-2.06-.94-.94-2.06-.94 2.06-2.06.94zm-11 1L8.5 8.5l.94-2.06 2.06-.94-2.06-.94L8.5 2.5l-.94 2.06-2.06.94zm10 10l.94 2.06.94-2.06 2.06-.94-2.06-.94-.94-2.06-.94 2.06-2.06.94z\"/><path d=\"M17.41 7.96l-1.37-1.37c-.4-.4-.92-.59-1.43-.59-.52 0-1.04.2-1.43.59L10.3 9.45l-7.72 7.72c-.78.78-.78 2.05 0 2.83L4 21.41c.39.39.9.59 1.41.59.51 0 1.02-.2 1.41-.59l7.78-7.78 2.81-2.81c.8-.78.8-2.07 0-2.86zM5.41 20L4 18.59l7.72-7.72 1.47 1.35L5.41 20z\"/>\n",
              "  </svg>\n",
              "      </button>\n",
              "      \n",
              "  <style>\n",
              "    .colab-df-container {\n",
              "      display:flex;\n",
              "      flex-wrap:wrap;\n",
              "      gap: 12px;\n",
              "    }\n",
              "\n",
              "    .colab-df-convert {\n",
              "      background-color: #E8F0FE;\n",
              "      border: none;\n",
              "      border-radius: 50%;\n",
              "      cursor: pointer;\n",
              "      display: none;\n",
              "      fill: #1967D2;\n",
              "      height: 32px;\n",
              "      padding: 0 0 0 0;\n",
              "      width: 32px;\n",
              "    }\n",
              "\n",
              "    .colab-df-convert:hover {\n",
              "      background-color: #E2EBFA;\n",
              "      box-shadow: 0px 1px 2px rgba(60, 64, 67, 0.3), 0px 1px 3px 1px rgba(60, 64, 67, 0.15);\n",
              "      fill: #174EA6;\n",
              "    }\n",
              "\n",
              "    [theme=dark] .colab-df-convert {\n",
              "      background-color: #3B4455;\n",
              "      fill: #D2E3FC;\n",
              "    }\n",
              "\n",
              "    [theme=dark] .colab-df-convert:hover {\n",
              "      background-color: #434B5C;\n",
              "      box-shadow: 0px 1px 3px 1px rgba(0, 0, 0, 0.15);\n",
              "      filter: drop-shadow(0px 1px 2px rgba(0, 0, 0, 0.3));\n",
              "      fill: #FFFFFF;\n",
              "    }\n",
              "  </style>\n",
              "\n",
              "      <script>\n",
              "        const buttonEl =\n",
              "          document.querySelector('#df-657e09b9-0700-40f1-b8d9-3859207579b5 button.colab-df-convert');\n",
              "        buttonEl.style.display =\n",
              "          google.colab.kernel.accessAllowed ? 'block' : 'none';\n",
              "\n",
              "        async function convertToInteractive(key) {\n",
              "          const element = document.querySelector('#df-657e09b9-0700-40f1-b8d9-3859207579b5');\n",
              "          const dataTable =\n",
              "            await google.colab.kernel.invokeFunction('convertToInteractive',\n",
              "                                                     [key], {});\n",
              "          if (!dataTable) return;\n",
              "\n",
              "          const docLinkHtml = 'Like what you see? Visit the ' +\n",
              "            '<a target=\"_blank\" href=https://colab.research.google.com/notebooks/data_table.ipynb>data table notebook</a>'\n",
              "            + ' to learn more about interactive tables.';\n",
              "          element.innerHTML = '';\n",
              "          dataTable['output_type'] = 'display_data';\n",
              "          await google.colab.output.renderOutput(dataTable, element);\n",
              "          const docLink = document.createElement('div');\n",
              "          docLink.innerHTML = docLinkHtml;\n",
              "          element.appendChild(docLink);\n",
              "        }\n",
              "      </script>\n",
              "    </div>\n",
              "  </div>\n",
              "  "
            ]
          },
          "metadata": {},
          "execution_count": 58
        }
      ],
      "source": [
        "# Comparing Accuracy Values\n",
        "\n",
        "accuracy_vals=pd.DataFrame(data=[accuracy_logreg,accuracy_knn,accuracy_svc,\n",
        "                        accuracy_nb,accuracy_rf,accuracy_xgb],\n",
        "                        index=['Logreg_accuracy','knn_accuracy','svc_accuracy',\n",
        "                        'nb_accuracy','rf_accuracy','xgb_accuracy'],\n",
        "                        columns=['Cluster 1','Cluster 2','Cluster 3','Cluster 4'])\n",
        "\n",
        "accuracy_vals"
      ]
    },
    {
      "cell_type": "code",
      "execution_count": 59,
      "metadata": {
        "colab": {
          "base_uri": "https://localhost:8080/"
        },
        "id": "1tNqdZZaKo5e",
        "outputId": "d6646bee-fd7a-442b-b875-8e957df00ab4"
      },
      "outputs": [
        {
          "output_type": "stream",
          "name": "stdout",
          "text": [
            "Best Model for Cluster 1 : rf_recall \n",
            "Best Model for Cluster 2 : rf_recall \n",
            "Best Model for Cluster 3 : Logreg_recall \n",
            "Best Model for Cluster 4 : Logreg_recall \n"
          ]
        }
      ],
      "source": [
        "for i in recall_vals.columns:\n",
        "    print(f\"Best Model for {i} : {recall_vals[i].idxmax()} \")"
      ]
    },
    {
      "cell_type": "code",
      "execution_count": 60,
      "metadata": {
        "colab": {
          "base_uri": "https://localhost:8080/"
        },
        "id": "s26Opa0MKo5e",
        "outputId": "f351ad3d-6e0c-4eb9-a669-aa947bfb0973"
      },
      "outputs": [
        {
          "output_type": "stream",
          "name": "stdout",
          "text": [
            "Best Model for Cluster 1 : rf_accuracy \n",
            "Best Model for Cluster 2 : rf_accuracy \n",
            "Best Model for Cluster 3 : Logreg_accuracy \n",
            "Best Model for Cluster 4 : Logreg_accuracy \n"
          ]
        }
      ],
      "source": [
        "for i in accuracy_vals.columns:\n",
        "    print(f\"Best Model for {i} : {accuracy_vals[i].idxmax()} \")"
      ]
    },
    {
      "cell_type": "code",
      "execution_count": 61,
      "metadata": {
        "id": "b5GzkH6AKo5e"
      },
      "outputs": [],
      "source": [
        "# From above observations, we can conclude that \n",
        "# random forest is best model for data belonging to Cluster 1\n",
        "# XGB is best model for data belonging to Cluster 2 \n",
        "# Logistic Regression is best model for data belonging to Cluster 3 and 4"
      ]
    },
    {
      "cell_type": "code",
      "execution_count": 62,
      "metadata": {
        "id": "ozoDiAOoKo5e"
      },
      "outputs": [],
      "source": [
        "# Model for Cluster 2\n",
        "\n",
        "X=data_c2.drop(['Class'],axis=1)\n",
        "y=data_c2.Class\n",
        "X_train,X_test,y_train,y_test=train_test_split(X,np.ravel(y),test_size=0.3,random_state=2)\n",
        "xgb_c2=XGBClassifier(use_label_encoder=False ,eval_metric='error')\n",
        "xgb_c2.fit(X_train,y_train)\n",
        "\n",
        "import pickle\n",
        "filename_c2=\"xgb_c2.pickle\"\n",
        "pickle.dump(xgb_c2,open(filename_c2,'wb'))"
      ]
    },
    {
      "cell_type": "code",
      "execution_count": 63,
      "metadata": {
        "id": "ETId3pyWKo5f"
      },
      "outputs": [],
      "source": [
        "# Model for Cluster 1\n",
        "\n",
        "X=data_c1.drop(['Class'],axis=1)\n",
        "y=data_c1.Class\n",
        "X_train,X_test,y_train,y_test=train_test_split(X,np.ravel(y),test_size=0.3,random_state=2)\n",
        "rf_c1=RandomForestClassifier()\n",
        "rf_c1.fit(X_train,y_train)\n",
        "\n",
        "import pickle\n",
        "filename_c1=\"rf_c1.pickle\"\n",
        "pickle.dump(rf_c1,open(filename_c1,'wb'))"
      ]
    },
    {
      "cell_type": "code",
      "execution_count": 64,
      "metadata": {
        "id": "oVzHl1ZNKo5f"
      },
      "outputs": [],
      "source": [
        "# Model for Cluster 3\n",
        "\n",
        "scaler_c3=StandardScaler()\n",
        "\n",
        "X=data_c3.drop(['Class'],axis=1)\n",
        "X=scaler_c3.fit_transform(X)\n",
        "y=data_c3.Class\n",
        "X_train,X_test,y_train,y_test=train_test_split(X,np.ravel(y),test_size=0.3,random_state=2)\n",
        "logreg_c3=LogisticRegression(max_iter=1000,solver='newton-cg')\n",
        "logreg_c3.fit(X_train,y_train)\n",
        "\n",
        "import pickle\n",
        "filename_c3=\"logreg_c3.pickle\"\n",
        "pickle.dump(logreg_c3,open(filename_c3,'wb'))\n",
        "\n",
        "filename_scaler=\"scaler_c3.pickle\"\n",
        "pickle.dump(scaler_c3,open(filename_scaler,'wb'))"
      ]
    },
    {
      "cell_type": "code",
      "execution_count": 65,
      "metadata": {
        "id": "ZSd3o9eOKo5f"
      },
      "outputs": [],
      "source": [
        "# Model for Cluster 4\n",
        "\n",
        "scaler_c4=StandardScaler()\n",
        "\n",
        "X=data_c4.drop(['Class'],axis=1)\n",
        "X=scaler_c4.fit_transform(X)\n",
        "y=data_c4.Class\n",
        "X_train,X_test,y_train,y_test=train_test_split(X,np.ravel(y),test_size=0.3,random_state=2)\n",
        "logreg_c4=LogisticRegression(max_iter=1000,solver='newton-cg')\n",
        "logreg_c4.fit(X_train,y_train)\n",
        "\n",
        "import pickle\n",
        "filename_c4=\"logreg_c4.pickle\"\n",
        "pickle.dump(logreg_c4,open(filename_c4,'wb'))\n",
        "\n",
        "filename_scaler=\"scaler_c4.pickle\"\n",
        "pickle.dump(scaler_c4,open(filename_scaler,'wb'))"
      ]
    },
    {
      "cell_type": "code",
      "execution_count": 66,
      "metadata": {
        "id": "ufHpg-YKKo5f"
      },
      "outputs": [],
      "source": [
        "# Getting the cluster centroids of the 4 clusters\n",
        "\n",
        "c1_center=kmeans.cluster_centers_[0]\n",
        "c2_center=kmeans.cluster_centers_[1]\n",
        "c3_center=kmeans.cluster_centers_[2]\n",
        "c4_center=kmeans.cluster_centers_[3]"
      ]
    },
    {
      "cell_type": "code",
      "execution_count": 67,
      "metadata": {
        "id": "IBxysE_UKo5f"
      },
      "outputs": [],
      "source": [
        "test_data=np.array(data.drop(['Class','Cluster'],axis=1).loc[342])"
      ]
    },
    {
      "cell_type": "code",
      "execution_count": 68,
      "metadata": {
        "colab": {
          "base_uri": "https://localhost:8080/"
        },
        "id": "s6nfMfyfKo5g",
        "outputId": "0aeb9284-ae70-4467-d350-8b1d54416bc3"
      },
      "outputs": [
        {
          "output_type": "execute_result",
          "data": {
            "text/plain": [
              "array([5.98511780e+01, 1.99074074e-01, 9.29108796e-01, 9.96238426e-01,\n",
              "       1.00000000e+00, 9.19560185e-01, 1.00000000e+00, 9.84664352e-01,\n",
              "       1.00000000e+00, 8.00925926e-01, 9.46469907e-01, 9.99421296e-01,\n",
              "       9.97106481e-01, 9.45891204e-01, 9.99710648e-01, 9.85532407e-01,\n",
              "       4.85762244e+00, 1.73611111e-03, 1.22108167e+00, 1.38888889e-02,\n",
              "       7.02218533e+01, 1.15740741e-03, 9.41626318e-01, 8.36017050e+01,\n",
              "       4.31134259e-02, 1.03400000e+03])"
            ]
          },
          "metadata": {},
          "execution_count": 68
        }
      ],
      "source": [
        "c1_center"
      ]
    },
    {
      "cell_type": "code",
      "execution_count": 69,
      "metadata": {
        "colab": {
          "base_uri": "https://localhost:8080/"
        },
        "id": "sZWb3FUbKo5g",
        "outputId": "965c159d-fa1d-48aa-cdd4-d2a307484b98"
      },
      "outputs": [
        {
          "output_type": "execute_result",
          "data": {
            "text/plain": [
              "array([6.00000000e+01, 0.00000000e+00, 1.00000000e+00, 1.00000000e+00,\n",
              "       1.00000000e+00, 1.00000000e+00, 1.00000000e+00, 1.00000000e+00,\n",
              "       1.00000000e+00, 1.00000000e+00, 1.00000000e+00, 1.00000000e+00,\n",
              "       1.00000000e+00, 1.00000000e+00, 1.00000000e+00, 1.00000000e+00,\n",
              "       5.08676609e+00, 1.00000000e+00, 2.20000000e+00, 0.00000000e+00,\n",
              "       1.08319345e+02, 1.00000000e+00, 9.94999705e-01, 1.10469649e+02,\n",
              "       1.00000000e+00, 2.20100000e+03])"
            ]
          },
          "metadata": {},
          "execution_count": 69
        }
      ],
      "source": [
        "test_data"
      ]
    },
    {
      "cell_type": "code",
      "execution_count": 70,
      "metadata": {
        "colab": {
          "base_uri": "https://localhost:8080/"
        },
        "id": "wafx5SA6Ko5g",
        "outputId": "a8135c1e-5cc2-4576-c76b-009611d3d888"
      },
      "outputs": [
        {
          "output_type": "execute_result",
          "data": {
            "text/plain": [
              "1167.9325100792212"
            ]
          },
          "metadata": {},
          "execution_count": 70
        }
      ],
      "source": [
        "np.linalg.norm(-c1_center+test_data)"
      ]
    },
    {
      "cell_type": "code",
      "execution_count": 71,
      "metadata": {
        "id": "hTtLqkXPKo5g"
      },
      "outputs": [],
      "source": [
        "# function to find closest cluster center , from test point\n",
        "\n",
        "def find_cluster(test_point):\n",
        "    distances=[]\n",
        "    for center in kmeans.cluster_centers_:\n",
        "        dist=np.linalg.norm(center-test_point)\n",
        "        distances.append(dist)\n",
        "        \n",
        "    dist_frame=pd.DataFrame(data=distances,columns=['Distances'])\n",
        "    cluster=dist_frame.Distances.idxmin()\n",
        "    print(f\"The point belongs to cluster {cluster}\")\n",
        "    \n",
        "    return cluster"
      ]
    },
    {
      "cell_type": "code",
      "execution_count": 72,
      "metadata": {
        "colab": {
          "base_uri": "https://localhost:8080/"
        },
        "id": "G-9P64XjKo5h",
        "outputId": "b709dd4a-539e-4f56-e37a-7e92565efd53"
      },
      "outputs": [
        {
          "output_type": "stream",
          "name": "stdout",
          "text": [
            "The point belongs to cluster 1\n"
          ]
        },
        {
          "output_type": "execute_result",
          "data": {
            "text/plain": [
              "1"
            ]
          },
          "metadata": {},
          "execution_count": 72
        }
      ],
      "source": [
        "find_cluster(test_data)"
      ]
    },
    {
      "cell_type": "code",
      "execution_count": 73,
      "metadata": {
        "id": "twYKX8nYKo5h"
      },
      "outputs": [],
      "source": [
        "# Get model for particular cluster\n",
        "\n",
        "def find_model(cluster):\n",
        "    models=[rf_c1,xgb_c2,logreg_c3,logreg_c4]\n",
        "    if cluster==0:\n",
        "        return rf_c1\n",
        "    if cluster==1:\n",
        "        return xgb_c2\n",
        "    if cluster==2:\n",
        "        return logreg_c3\n",
        "    if cluster==3:\n",
        "        return logreg_c4"
      ]
    },
    {
      "cell_type": "code",
      "execution_count": 74,
      "metadata": {
        "colab": {
          "base_uri": "https://localhost:8080/",
          "height": 468
        },
        "id": "zgWTW26WKo5i",
        "outputId": "5040a401-153a-48ce-9aad-7a0b9143dff8"
      },
      "outputs": [
        {
          "output_type": "error",
          "ename": "ValueError",
          "evalue": "ignored",
          "traceback": [
            "\u001b[0;31m---------------------------------------------------------------------------\u001b[0m",
            "\u001b[0;31mValueError\u001b[0m                                Traceback (most recent call last)",
            "\u001b[0;32m<ipython-input-74-b45028d4a960>\u001b[0m in \u001b[0;36m<module>\u001b[0;34m\u001b[0m\n\u001b[1;32m      1\u001b[0m \u001b[0mmodel\u001b[0m\u001b[0;34m=\u001b[0m\u001b[0mfind_model\u001b[0m\u001b[0;34m(\u001b[0m\u001b[0;36m1\u001b[0m\u001b[0;34m)\u001b[0m\u001b[0;34m\u001b[0m\u001b[0;34m\u001b[0m\u001b[0m\n\u001b[0;32m----> 2\u001b[0;31m \u001b[0mmodel\u001b[0m\u001b[0;34m.\u001b[0m\u001b[0mpredict\u001b[0m\u001b[0;34m(\u001b[0m\u001b[0mpd\u001b[0m\u001b[0;34m.\u001b[0m\u001b[0mDataFrame\u001b[0m\u001b[0;34m(\u001b[0m\u001b[0mtest_data\u001b[0m\u001b[0;34m)\u001b[0m\u001b[0;34m.\u001b[0m\u001b[0mT\u001b[0m\u001b[0;34m)\u001b[0m\u001b[0;34m[\u001b[0m\u001b[0;36m0\u001b[0m\u001b[0;34m]\u001b[0m\u001b[0;34m\u001b[0m\u001b[0;34m\u001b[0m\u001b[0m\n\u001b[0m",
            "\u001b[0;32m/usr/local/lib/python3.7/dist-packages/xgboost/sklearn.py\u001b[0m in \u001b[0;36mpredict\u001b[0;34m(self, data, output_margin, ntree_limit, validate_features)\u001b[0m\n\u001b[1;32m    789\u001b[0m                                                  \u001b[0moutput_margin\u001b[0m\u001b[0;34m=\u001b[0m\u001b[0moutput_margin\u001b[0m\u001b[0;34m,\u001b[0m\u001b[0;34m\u001b[0m\u001b[0;34m\u001b[0m\u001b[0m\n\u001b[1;32m    790\u001b[0m                                                  \u001b[0mntree_limit\u001b[0m\u001b[0;34m=\u001b[0m\u001b[0mntree_limit\u001b[0m\u001b[0;34m,\u001b[0m\u001b[0;34m\u001b[0m\u001b[0;34m\u001b[0m\u001b[0m\n\u001b[0;32m--> 791\u001b[0;31m                                                  validate_features=validate_features)\n\u001b[0m\u001b[1;32m    792\u001b[0m         \u001b[0;32mif\u001b[0m \u001b[0moutput_margin\u001b[0m\u001b[0;34m:\u001b[0m\u001b[0;34m\u001b[0m\u001b[0;34m\u001b[0m\u001b[0m\n\u001b[1;32m    793\u001b[0m             \u001b[0;31m# If output_margin is active, simply return the scores\u001b[0m\u001b[0;34m\u001b[0m\u001b[0;34m\u001b[0m\u001b[0;34m\u001b[0m\u001b[0m\n",
            "\u001b[0;32m/usr/local/lib/python3.7/dist-packages/xgboost/core.py\u001b[0m in \u001b[0;36mpredict\u001b[0;34m(self, data, output_margin, ntree_limit, pred_leaf, pred_contribs, approx_contribs, pred_interactions, validate_features)\u001b[0m\n\u001b[1;32m   1282\u001b[0m \u001b[0;34m\u001b[0m\u001b[0m\n\u001b[1;32m   1283\u001b[0m         \u001b[0;32mif\u001b[0m \u001b[0mvalidate_features\u001b[0m\u001b[0;34m:\u001b[0m\u001b[0;34m\u001b[0m\u001b[0;34m\u001b[0m\u001b[0m\n\u001b[0;32m-> 1284\u001b[0;31m             \u001b[0mself\u001b[0m\u001b[0;34m.\u001b[0m\u001b[0m_validate_features\u001b[0m\u001b[0;34m(\u001b[0m\u001b[0mdata\u001b[0m\u001b[0;34m)\u001b[0m\u001b[0;34m\u001b[0m\u001b[0;34m\u001b[0m\u001b[0m\n\u001b[0m\u001b[1;32m   1285\u001b[0m \u001b[0;34m\u001b[0m\u001b[0m\n\u001b[1;32m   1286\u001b[0m         \u001b[0mlength\u001b[0m \u001b[0;34m=\u001b[0m \u001b[0mc_bst_ulong\u001b[0m\u001b[0;34m(\u001b[0m\u001b[0;34m)\u001b[0m\u001b[0;34m\u001b[0m\u001b[0;34m\u001b[0m\u001b[0m\n",
            "\u001b[0;32m/usr/local/lib/python3.7/dist-packages/xgboost/core.py\u001b[0m in \u001b[0;36m_validate_features\u001b[0;34m(self, data)\u001b[0m\n\u001b[1;32m   1688\u001b[0m \u001b[0;34m\u001b[0m\u001b[0m\n\u001b[1;32m   1689\u001b[0m                 raise ValueError(msg.format(self.feature_names,\n\u001b[0;32m-> 1690\u001b[0;31m                                             data.feature_names))\n\u001b[0m\u001b[1;32m   1691\u001b[0m \u001b[0;34m\u001b[0m\u001b[0m\n\u001b[1;32m   1692\u001b[0m     \u001b[0;32mdef\u001b[0m \u001b[0mget_split_value_histogram\u001b[0m\u001b[0;34m(\u001b[0m\u001b[0mself\u001b[0m\u001b[0;34m,\u001b[0m \u001b[0mfeature\u001b[0m\u001b[0;34m,\u001b[0m \u001b[0mfmap\u001b[0m\u001b[0;34m=\u001b[0m\u001b[0;34m''\u001b[0m\u001b[0;34m,\u001b[0m \u001b[0mbins\u001b[0m\u001b[0;34m=\u001b[0m\u001b[0;32mNone\u001b[0m\u001b[0;34m,\u001b[0m \u001b[0mas_pandas\u001b[0m\u001b[0;34m=\u001b[0m\u001b[0;32mTrue\u001b[0m\u001b[0;34m)\u001b[0m\u001b[0;34m:\u001b[0m\u001b[0;34m\u001b[0m\u001b[0;34m\u001b[0m\u001b[0m\n",
            "\u001b[0;31mValueError\u001b[0m: feature_names mismatch: ['age', 'sex', 'on_thyroxine', 'query_on_thyroxine', 'on_antithyroid_medication', 'sick', 'pregnant', 'thyroid_surgery', 'I131_treatment', 'query_hypothyroid', 'query_hyperthyroid', 'lithium', 'goitre', 'tumor', 'hypopituitary', 'psych', 'TSH', 'TSH_nan', 'T3', 'T3_nan', 'TT4', 'TT4_nan', 'T4U', 'FTI', 'FTI_nan', 'referral_source'] ['0 ', '1 ', '2 ', '3 ', '4 ', '5 ', '6 ', '7 ', '8 ', '9 ', '10', '11', '12', '13', '14', '15', '16', '17', '18', '19', '20', '21', '22', '23', '24', '25']\nexpected age, query_hyperthyroid, on_antithyroid_medication, query_hypothyroid, TT4, psych, T3_nan, pregnant, goitre, lithium, TSH_nan, on_thyroxine, tumor, T3, thyroid_surgery, sex, FTI, sick, hypopituitary, T4U, TT4_nan, I131_treatment, referral_source, query_on_thyroxine, FTI_nan, TSH in input data\ntraining data did not have the following fields: 5 , 9 , 20, 2 , 0 , 16, 17, 13, 18, 24, 7 , 21, 12, 23, 8 , 14, 1 , 15, 6 , 10, 25, 11, 4 , 3 , 22, 19"
          ]
        }
      ],
      "source": [
        "model=find_model(1)\n",
        "model.predict(pd.DataFrame(test_data).T)[0]"
      ]
    },
    {
      "cell_type": "code",
      "execution_count": null,
      "metadata": {
        "id": "40pU5pc9Ko5i"
      },
      "outputs": [],
      "source": [
        "data.loc[342]"
      ]
    },
    {
      "cell_type": "code",
      "execution_count": null,
      "metadata": {
        "id": "lD-kiUcgKo5i"
      },
      "outputs": [],
      "source": []
    }
  ],
  "metadata": {
    "kernelspec": {
      "display_name": "Python 3",
      "language": "python",
      "name": "python3"
    },
    "language_info": {
      "codemirror_mode": {
        "name": "ipython",
        "version": 3
      },
      "file_extension": ".py",
      "mimetype": "text/x-python",
      "name": "python",
      "nbconvert_exporter": "python",
      "pygments_lexer": "ipython3",
      "version": "3.8.3"
    },
    "colab": {
      "provenance": []
    }
  },
  "nbformat": 4,
  "nbformat_minor": 0
}